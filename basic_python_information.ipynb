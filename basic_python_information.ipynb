{
 "cells": [
  {
   "cell_type": "markdown",
   "id": "279c73e8",
   "metadata": {},
   "source": [
    "# Basic Python Information"
   ]
  },
  {
   "cell_type": "markdown",
   "id": "75868ba0",
   "metadata": {},
   "source": [
    "We are now beginning to learn Python. To lay a solid foundation in Python, we first need to learn about data types and data structures. Let's start our journey by learning about numbers.\n",
    "\n",
    "\n",
    "In this section, we will learn:\n",
    "\n",
    "1. Integer and Float Data Types\n",
    "2. Basic Arithmetic Operations\n",
    "3. Variable Declaration"
   ]
  },
  {
   "cell_type": "markdown",
   "id": "4c7004e2",
   "metadata": {},
   "source": [
    "## Integers\n",
    "\n",
    "All the numbers we see in mathematics (negative, positive) are actually a data type in Python. Integers are referred to as \"Integer\" in English.\n",
    "\n",
    "For example, -10, 25, 8, 0 are all integer values in Python.\n",
    "\n",
    "## Floating-Point Numbers (Floats)\n",
    "\n",
    "Like integers, floating-point numbers are also one of the types of numbers we see in mathematics. Floating-point numbers, just like in mathematics, are a data type in Python. Floating-point numbers, or also known as \"Floats,\" are named so in English.\n",
    "\n",
    "For example, 3.14, 7.132445, -11.78 are all floating-point (float) values in Python.\n",
    "\n",
    "Now let's learn about basic mathematical operations in Python.\n",
    "\n",
    "## Basic Math Operators\n",
    "\n",
    "We are all familiar with the basic four operations (Addition, Subtraction, Multiplication, Division) from mathematics. Now let's see how these operations are done in Python."
   ]
  },
  {
   "cell_type": "code",
   "execution_count": 4,
   "id": "f9410e42",
   "metadata": {},
   "outputs": [
    {
     "data": {
      "text/plain": [
       "15"
      ]
     },
     "execution_count": 4,
     "metadata": {},
     "output_type": "execute_result"
    }
   ],
   "source": [
    "# Adding\n",
    "7 + 8"
   ]
  },
  {
   "cell_type": "code",
   "execution_count": 6,
   "id": "b26fb3d9",
   "metadata": {},
   "outputs": [
    {
     "data": {
      "text/plain": [
       "80"
      ]
     },
     "execution_count": 6,
     "metadata": {},
     "output_type": "execute_result"
    }
   ],
   "source": [
    "# Subtraction\n",
    "100 - 20"
   ]
  },
  {
   "cell_type": "code",
   "execution_count": 7,
   "id": "f94767f2",
   "metadata": {},
   "outputs": [
    {
     "data": {
      "text/plain": [
       "72"
      ]
     },
     "execution_count": 7,
     "metadata": {},
     "output_type": "execute_result"
    }
   ],
   "source": [
    "# Multiply\n",
    "8 * 9 "
   ]
  },
  {
   "cell_type": "code",
   "execution_count": 8,
   "id": "e3ca9101",
   "metadata": {},
   "outputs": [
    {
     "data": {
      "text/plain": [
       "5.0"
      ]
     },
     "execution_count": 8,
     "metadata": {},
     "output_type": "execute_result"
    }
   ],
   "source": [
    "# Division\n",
    "20 / 4"
   ]
  },
  {
   "cell_type": "markdown",
   "id": "ea2a8c20",
   "metadata": {},
   "source": [
    "We've observed our fundamental operations here. However, the final operation might have caused confusion. Why did the outcome appear as a float value? I believe it would be more accurate to examine these in the section on Mathematical Operators.\n",
    "\n",
    "Now that we've reviewed these elementary operations, let's endeavor to understand variable assignment in Python.\n",
    "\n",
    "## Variables and Variable Assignment\n",
    "\n",
    "Variables are a crucial concept in programming languages. They are units that store values of data types. Let's create a variable in Python now."
   ]
  },
  {
   "cell_type": "code",
   "execution_count": 13,
   "id": "cd13e613",
   "metadata": {},
   "outputs": [],
   "source": [
    "x = 8"
   ]
  },
  {
   "cell_type": "markdown",
   "id": "ea48c233",
   "metadata": {},
   "source": [
    "Now we created our valuable and it stored in x"
   ]
  },
  {
   "cell_type": "code",
   "execution_count": 14,
   "id": "b94e4a24",
   "metadata": {},
   "outputs": [
    {
     "data": {
      "text/plain": [
       "8"
      ]
     },
     "execution_count": 14,
     "metadata": {},
     "output_type": "execute_result"
    }
   ],
   "source": [
    "x"
   ]
  },
  {
   "cell_type": "markdown",
   "id": "9c01a5c9",
   "metadata": {},
   "source": [
    "If we print it, the value of our variable appears as 8. So, what will happen if we perform the following operation?"
   ]
  },
  {
   "cell_type": "code",
   "execution_count": 15,
   "id": "09d0b6aa",
   "metadata": {},
   "outputs": [
    {
     "data": {
      "text/plain": [
       "512"
      ]
     },
     "execution_count": 15,
     "metadata": {},
     "output_type": "execute_result"
    }
   ],
   "source": [
    "8 * 8 * 8"
   ]
  },
  {
   "cell_type": "markdown",
   "id": "9560de9d",
   "metadata": {},
   "source": [
    "The result appeared as the cube of our variable's value. Now let's change the value of our variable. For this, we need to assign our new value to the variable using the \"=\" operator."
   ]
  },
  {
   "cell_type": "code",
   "execution_count": 16,
   "id": "4691fd8a",
   "metadata": {},
   "outputs": [],
   "source": [
    "x = 5"
   ]
  },
  {
   "cell_type": "code",
   "execution_count": 17,
   "id": "5c0ec9a7",
   "metadata": {},
   "outputs": [
    {
     "data": {
      "text/plain": [
       "5"
      ]
     },
     "execution_count": 17,
     "metadata": {},
     "output_type": "execute_result"
    }
   ],
   "source": [
    "x"
   ]
  },
  {
   "cell_type": "markdown",
   "id": "ccfc9f9f",
   "metadata": {},
   "source": [
    "Lets create 3 varuables"
   ]
  },
  {
   "cell_type": "code",
   "execution_count": 4,
   "id": "408a05f4",
   "metadata": {},
   "outputs": [],
   "source": [
    "x = 3\n",
    "y = 4\n",
    "z = x + y"
   ]
  },
  {
   "cell_type": "code",
   "execution_count": 9,
   "id": "a2cbb22f",
   "metadata": {},
   "outputs": [
    {
     "data": {
      "text/plain": [
       "3"
      ]
     },
     "execution_count": 9,
     "metadata": {},
     "output_type": "execute_result"
    }
   ],
   "source": [
    "x"
   ]
  },
  {
   "cell_type": "code",
   "execution_count": 10,
   "id": "55bdd401",
   "metadata": {},
   "outputs": [
    {
     "data": {
      "text/plain": [
       "4"
      ]
     },
     "execution_count": 10,
     "metadata": {},
     "output_type": "execute_result"
    }
   ],
   "source": [
    "y"
   ]
  },
  {
   "cell_type": "code",
   "execution_count": 11,
   "id": "910b4910",
   "metadata": {},
   "outputs": [
    {
     "data": {
      "text/plain": [
       "7"
      ]
     },
     "execution_count": 11,
     "metadata": {},
     "output_type": "execute_result"
    }
   ],
   "source": [
    "z"
   ]
  },
  {
   "cell_type": "markdown",
   "id": "b62b8c2e",
   "metadata": {},
   "source": [
    "Here's how simple it is! Finally, let's talk about the points to consider when naming our variables.\n",
    "\n",
    "1. Variable names cannot start with a number.\n",
    "2. If a variable name consists of multiple words, there can be no spaces between them.\n",
    "3. :'\",<>/?|\\()!@#$%^&*~-+ These symbols cannot be used in variable names. (Only the _ symbol can be used)\n",
    "4. Reserved keywords in Python cannot be used as variable names. (e.g., while, not, etc.)"
   ]
  },
  {
   "cell_type": "markdown",
   "id": "7c43f1f3",
   "metadata": {},
   "source": [
    "Of course! Here's an example demonstrating the points mentioned above:\n",
    "\n",
    "```python\n",
    "# Valid variable names\n",
    "my_variable = 10\n",
    "userAge = 25\n",
    "user_age = 30\n",
    "is_valid = True\n",
    "\n",
    "# Invalid variable names\n",
    "# 1. Variable name cannot start with a number\n",
    "# 2. No spaces are allowed in variable names\n",
    "# 3. Special characters (except underscore) are not allowed\n",
    "# 4. Reserved keywords cannot be used as variable names\n",
    "# example 1:\n",
    "# 1user = 5\n",
    "# example 2:\n",
    "# user age = 25\n",
    "# example 3:\n",
    "# my-variable = 10\n",
    "# example 4:\n",
    "# while = True\n",
    "``` \n",
    "\n",
    "In this example, `my_variable`, `userAge`, `user_age`, and `is_valid` are all valid variable names, while the examples commented out are invalid due to violating the rules mentioned."
   ]
  },
  {
   "cell_type": "markdown",
   "id": "501944dc",
   "metadata": {},
   "source": [
    " * In Python, there exists a practical technique for interchanging the values of two variables."
   ]
  },
  {
   "cell_type": "code",
   "execution_count": 13,
   "id": "bee7f48c",
   "metadata": {},
   "outputs": [],
   "source": [
    "x = 5"
   ]
  },
  {
   "cell_type": "code",
   "execution_count": 15,
   "id": "955a18df",
   "metadata": {},
   "outputs": [],
   "source": [
    "y = 3"
   ]
  },
  {
   "cell_type": "code",
   "execution_count": 16,
   "id": "06c800b5",
   "metadata": {},
   "outputs": [
    {
     "data": {
      "text/plain": [
       "5"
      ]
     },
     "execution_count": 16,
     "metadata": {},
     "output_type": "execute_result"
    }
   ],
   "source": [
    "x"
   ]
  },
  {
   "cell_type": "code",
   "execution_count": 17,
   "id": "cba42ed9",
   "metadata": {},
   "outputs": [
    {
     "data": {
      "text/plain": [
       "3"
      ]
     },
     "execution_count": 17,
     "metadata": {},
     "output_type": "execute_result"
    }
   ],
   "source": [
    "y"
   ]
  },
  {
   "cell_type": "code",
   "execution_count": 18,
   "id": "8f3e15f5",
   "metadata": {},
   "outputs": [],
   "source": [
    "x,y = y,x"
   ]
  },
  {
   "cell_type": "code",
   "execution_count": 19,
   "id": "ce9ef552",
   "metadata": {},
   "outputs": [
    {
     "data": {
      "text/plain": [
       "3"
      ]
     },
     "execution_count": 19,
     "metadata": {},
     "output_type": "execute_result"
    }
   ],
   "source": [
    "x"
   ]
  },
  {
   "cell_type": "code",
   "execution_count": 20,
   "id": "023d2139",
   "metadata": {},
   "outputs": [
    {
     "data": {
      "text/plain": [
       "5"
      ]
     },
     "execution_count": 20,
     "metadata": {},
     "output_type": "execute_result"
    }
   ],
   "source": [
    "y"
   ]
  },
  {
   "cell_type": "markdown",
   "id": "c77d9f46",
   "metadata": {},
   "source": [
    "Lastly, in Python, there is a convenient technique for incrementing the value of a variable. Let's take a look at the following code."
   ]
  },
  {
   "cell_type": "code",
   "execution_count": 21,
   "id": "8281fbcc",
   "metadata": {},
   "outputs": [],
   "source": [
    "x = 3"
   ]
  },
  {
   "cell_type": "code",
   "execution_count": 22,
   "id": "0f656a37",
   "metadata": {},
   "outputs": [
    {
     "data": {
      "text/plain": [
       "3"
      ]
     },
     "execution_count": 22,
     "metadata": {},
     "output_type": "execute_result"
    }
   ],
   "source": [
    "x"
   ]
  },
  {
   "cell_type": "code",
   "execution_count": 23,
   "id": "a2476a8f",
   "metadata": {},
   "outputs": [],
   "source": [
    "x = x + 1"
   ]
  },
  {
   "cell_type": "code",
   "execution_count": 24,
   "id": "bd254ff5",
   "metadata": {},
   "outputs": [
    {
     "data": {
      "text/plain": [
       "4"
      ]
     },
     "execution_count": 24,
     "metadata": {},
     "output_type": "execute_result"
    }
   ],
   "source": [
    "x"
   ]
  },
  {
   "cell_type": "code",
   "execution_count": 25,
   "id": "e6126aa1",
   "metadata": {},
   "outputs": [],
   "source": [
    "x += 1"
   ]
  },
  {
   "cell_type": "code",
   "execution_count": 26,
   "id": "cdeb7093",
   "metadata": {},
   "outputs": [
    {
     "data": {
      "text/plain": [
       "5"
      ]
     },
     "execution_count": 26,
     "metadata": {},
     "output_type": "execute_result"
    }
   ],
   "source": [
    "x"
   ]
  },
  {
   "cell_type": "code",
   "execution_count": 27,
   "id": "71df1e39",
   "metadata": {},
   "outputs": [],
   "source": [
    "x -= 1"
   ]
  },
  {
   "cell_type": "code",
   "execution_count": 28,
   "id": "5daa43a3",
   "metadata": {},
   "outputs": [
    {
     "data": {
      "text/plain": [
       "4"
      ]
     },
     "execution_count": 28,
     "metadata": {},
     "output_type": "execute_result"
    }
   ],
   "source": [
    "x"
   ]
  },
  {
   "cell_type": "code",
   "execution_count": 29,
   "id": "2e989d8d",
   "metadata": {},
   "outputs": [
    {
     "data": {
      "text/plain": [
       "2.0"
      ]
     },
     "execution_count": 29,
     "metadata": {},
     "output_type": "execute_result"
    }
   ],
   "source": [
    "x /= 2\n",
    "x"
   ]
  },
  {
   "cell_type": "markdown",
   "id": "725495f5",
   "metadata": {},
   "source": [
    "## Comment Lines\n",
    "\n",
    "Comment lines are lines of explanation added to our programs. If comment lines are used in a program, these lines are not seen or executed by Python."
   ]
  },
  {
   "cell_type": "code",
   "execution_count": 30,
   "id": "05f37730",
   "metadata": {},
   "outputs": [
    {
     "name": "stdout",
     "output_type": "stream",
     "text": [
      "John\n"
     ]
    }
   ],
   "source": [
    "# Single Line Comment\n",
    "print(\"John\")"
   ]
  },
  {
   "cell_type": "code",
   "execution_count": 31,
   "id": "caec6452",
   "metadata": {},
   "outputs": [
    {
     "name": "stdout",
     "output_type": "stream",
     "text": [
      "John\n"
     ]
    }
   ],
   "source": [
    "\"\"\"\n",
    "Multiple Line Comment\n",
    "\n",
    "\"\"\"\n",
    "print(\"John\")"
   ]
  },
  {
   "cell_type": "code",
   "execution_count": null,
   "id": "1575e52e",
   "metadata": {},
   "outputs": [],
   "source": []
  }
 ],
 "metadata": {
  "kernelspec": {
   "display_name": "Python 3 (ipykernel)",
   "language": "python",
   "name": "python3"
  },
  "language_info": {
   "codemirror_mode": {
    "name": "ipython",
    "version": 3
   },
   "file_extension": ".py",
   "mimetype": "text/x-python",
   "name": "python",
   "nbconvert_exporter": "python",
   "pygments_lexer": "ipython3",
   "version": "3.11.5"
  }
 },
 "nbformat": 4,
 "nbformat_minor": 5
}
