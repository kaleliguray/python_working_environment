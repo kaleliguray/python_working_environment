{
 "cells": [
  {
   "cell_type": "markdown",
   "id": "2fe3db93",
   "metadata": {},
   "source": [
    "# Mathematical Operators\n",
    "\n",
    "Mathematical operators are essential in Python and other programming languages. In this topic, we will learn about mathematical operators in Python.\n",
    "\n",
    "## Addition (+)"
   ]
  },
  {
   "cell_type": "code",
   "execution_count": 32,
   "id": "20020242",
   "metadata": {},
   "outputs": [
    {
     "data": {
      "text/plain": [
       "12"
      ]
     },
     "execution_count": 32,
     "metadata": {},
     "output_type": "execute_result"
    }
   ],
   "source": [
    "x = 10\n",
    "y = 2\n",
    "x + y"
   ]
  },
  {
   "cell_type": "code",
   "execution_count": 34,
   "id": "e8ec24ed",
   "metadata": {},
   "outputs": [
    {
     "data": {
      "text/plain": [
       "12.3"
      ]
     },
     "execution_count": 34,
     "metadata": {},
     "output_type": "execute_result"
    }
   ],
   "source": [
    "a = 4.5\n",
    "b = 7.8\n",
    "a + b"
   ]
  },
  {
   "cell_type": "markdown",
   "id": "72bb8d2e",
   "metadata": {},
   "source": [
    "## Subtraction Operation (-)"
   ]
  },
  {
   "cell_type": "code",
   "execution_count": 36,
   "id": "3681a535",
   "metadata": {},
   "outputs": [
    {
     "data": {
      "text/plain": [
       "8"
      ]
     },
     "execution_count": 36,
     "metadata": {},
     "output_type": "execute_result"
    }
   ],
   "source": [
    "x = 10\n",
    "y = 2\n",
    "x - y"
   ]
  },
  {
   "cell_type": "code",
   "execution_count": 37,
   "id": "246513be",
   "metadata": {},
   "outputs": [
    {
     "data": {
      "text/plain": [
       "-3.3"
      ]
     },
     "execution_count": 37,
     "metadata": {},
     "output_type": "execute_result"
    }
   ],
   "source": [
    "a = 4.5\n",
    "b = 7.8\n",
    "a - b"
   ]
  },
  {
   "cell_type": "markdown",
   "id": "ea1b3320",
   "metadata": {},
   "source": [
    "## Multiplication Operation (*)"
   ]
  },
  {
   "cell_type": "code",
   "execution_count": 39,
   "id": "40c9ed09",
   "metadata": {},
   "outputs": [
    {
     "data": {
      "text/plain": [
       "20"
      ]
     },
     "execution_count": 39,
     "metadata": {},
     "output_type": "execute_result"
    }
   ],
   "source": [
    "x = 10\n",
    "y = 2\n",
    "x * y"
   ]
  },
  {
   "cell_type": "code",
   "execution_count": 40,
   "id": "29bd9bc3",
   "metadata": {},
   "outputs": [
    {
     "data": {
      "text/plain": [
       "35.1"
      ]
     },
     "execution_count": 40,
     "metadata": {},
     "output_type": "execute_result"
    }
   ],
   "source": [
    "a = 4.5\n",
    "b = 7.8\n",
    "a * b"
   ]
  },
  {
   "cell_type": "code",
   "execution_count": 41,
   "id": "15ec93e0",
   "metadata": {},
   "outputs": [
    {
     "data": {
      "text/plain": [
       "60"
      ]
     },
     "execution_count": 41,
     "metadata": {},
     "output_type": "execute_result"
    }
   ],
   "source": [
    "i = 3\n",
    "j = 4\n",
    "z = 5\n",
    "i * j * z"
   ]
  },
  {
   "cell_type": "markdown",
   "id": "d96bd762",
   "metadata": {},
   "source": [
    "## Division Operation (/)"
   ]
  },
  {
   "cell_type": "code",
   "execution_count": 42,
   "id": "4748a548",
   "metadata": {},
   "outputs": [
    {
     "data": {
      "text/plain": [
       "5.0"
      ]
     },
     "execution_count": 42,
     "metadata": {},
     "output_type": "execute_result"
    }
   ],
   "source": [
    "x / y"
   ]
  },
  {
   "cell_type": "code",
   "execution_count": 43,
   "id": "40c6b416",
   "metadata": {},
   "outputs": [
    {
     "data": {
      "text/plain": [
       "0.576923076923077"
      ]
     },
     "execution_count": 43,
     "metadata": {},
     "output_type": "execute_result"
    }
   ],
   "source": [
    "a / b"
   ]
  },
  {
   "cell_type": "code",
   "execution_count": 44,
   "id": "54b49843",
   "metadata": {},
   "outputs": [
    {
     "data": {
      "text/plain": [
       "0.15"
      ]
     },
     "execution_count": 44,
     "metadata": {},
     "output_type": "execute_result"
    }
   ],
   "source": [
    "i / j / z"
   ]
  },
  {
   "cell_type": "markdown",
   "id": "8bef5be2",
   "metadata": {},
   "source": [
    "## Integer Division (//)"
   ]
  },
  {
   "cell_type": "code",
   "execution_count": 45,
   "id": "70aef2c4",
   "metadata": {},
   "outputs": [
    {
     "data": {
      "text/plain": [
       "5"
      ]
     },
     "execution_count": 45,
     "metadata": {},
     "output_type": "execute_result"
    }
   ],
   "source": [
    "x // y"
   ]
  },
  {
   "cell_type": "code",
   "execution_count": 46,
   "id": "30a5c1ec",
   "metadata": {},
   "outputs": [
    {
     "data": {
      "text/plain": [
       "0.0"
      ]
     },
     "execution_count": 46,
     "metadata": {},
     "output_type": "execute_result"
    }
   ],
   "source": [
    "a // b"
   ]
  },
  {
   "cell_type": "code",
   "execution_count": 47,
   "id": "49aeba0a",
   "metadata": {},
   "outputs": [
    {
     "data": {
      "text/plain": [
       "4.0"
      ]
     },
     "execution_count": 47,
     "metadata": {},
     "output_type": "execute_result"
    }
   ],
   "source": [
    "12 / 3"
   ]
  },
  {
   "cell_type": "code",
   "execution_count": 48,
   "id": "af847c16",
   "metadata": {},
   "outputs": [
    {
     "data": {
      "text/plain": [
       "4"
      ]
     },
     "execution_count": 48,
     "metadata": {},
     "output_type": "execute_result"
    }
   ],
   "source": [
    "12 // 3"
   ]
  },
  {
   "cell_type": "markdown",
   "id": "6b950846",
   "metadata": {},
   "source": [
    "## Remainder (%)"
   ]
  },
  {
   "cell_type": "code",
   "execution_count": 49,
   "id": "293d8ee6",
   "metadata": {},
   "outputs": [
    {
     "data": {
      "text/plain": [
       "2"
      ]
     },
     "execution_count": 49,
     "metadata": {},
     "output_type": "execute_result"
    }
   ],
   "source": [
    "17 % 3"
   ]
  },
  {
   "cell_type": "code",
   "execution_count": 53,
   "id": "0ffa7481",
   "metadata": {},
   "outputs": [
    {
     "data": {
      "text/plain": [
       "1"
      ]
     },
     "execution_count": 53,
     "metadata": {},
     "output_type": "execute_result"
    }
   ],
   "source": [
    "100 % 9"
   ]
  },
  {
   "cell_type": "code",
   "execution_count": 54,
   "id": "fc654aa3",
   "metadata": {},
   "outputs": [
    {
     "data": {
      "text/plain": [
       "1"
      ]
     },
     "execution_count": 54,
     "metadata": {},
     "output_type": "execute_result"
    }
   ],
   "source": [
    "9 % 2"
   ]
  },
  {
   "cell_type": "markdown",
   "id": "0414f417",
   "metadata": {},
   "source": [
    "## Exponentiation (**)"
   ]
  },
  {
   "cell_type": "code",
   "execution_count": 55,
   "id": "a4944994",
   "metadata": {},
   "outputs": [
    {
     "data": {
      "text/plain": [
       "16"
      ]
     },
     "execution_count": 55,
     "metadata": {},
     "output_type": "execute_result"
    }
   ],
   "source": [
    "2 ** 4"
   ]
  },
  {
   "cell_type": "code",
   "execution_count": 56,
   "id": "2b5d8bb2",
   "metadata": {},
   "outputs": [
    {
     "data": {
      "text/plain": [
       "30.959144000000002"
      ]
     },
     "execution_count": 56,
     "metadata": {},
     "output_type": "execute_result"
    }
   ],
   "source": [
    "3.14 ** 3"
   ]
  },
  {
   "cell_type": "markdown",
   "id": "c4fb9003",
   "metadata": {},
   "source": [
    "### Square Root"
   ]
  },
  {
   "cell_type": "code",
   "execution_count": 57,
   "id": "8509d141",
   "metadata": {},
   "outputs": [
    {
     "data": {
      "text/plain": [
       "12.0"
      ]
     },
     "execution_count": 57,
     "metadata": {},
     "output_type": "execute_result"
    }
   ],
   "source": [
    " 144 ** 0.5"
   ]
  },
  {
   "cell_type": "code",
   "execution_count": 58,
   "id": "be605ef3",
   "metadata": {},
   "outputs": [
    {
     "data": {
      "text/plain": [
       "9.0"
      ]
     },
     "execution_count": 58,
     "metadata": {},
     "output_type": "execute_result"
    }
   ],
   "source": [
    "81 ** 0.5"
   ]
  },
  {
   "cell_type": "code",
   "execution_count": 59,
   "id": "38fecc14",
   "metadata": {},
   "outputs": [
    {
     "data": {
      "text/plain": [
       "2.0"
      ]
     },
     "execution_count": 59,
     "metadata": {},
     "output_type": "execute_result"
    }
   ],
   "source": [
    "4 ** 0.5"
   ]
  },
  {
   "cell_type": "code",
   "execution_count": 68,
   "id": "a68af6d5",
   "metadata": {},
   "outputs": [
    {
     "data": {
      "text/plain": [
       "3.0"
      ]
     },
     "execution_count": 68,
     "metadata": {},
     "output_type": "execute_result"
    }
   ],
   "source": [
    "27 ** (1/3)"
   ]
  },
  {
   "cell_type": "code",
   "execution_count": 69,
   "id": "30eacc3e",
   "metadata": {},
   "outputs": [
    {
     "data": {
      "text/plain": [
       "2.0"
      ]
     },
     "execution_count": 69,
     "metadata": {},
     "output_type": "execute_result"
    }
   ],
   "source": [
    "8 ** (1/3)"
   ]
  },
  {
   "cell_type": "markdown",
   "id": "23198904",
   "metadata": {},
   "source": [
    "## Sign change (-)"
   ]
  },
  {
   "cell_type": "code",
   "execution_count": 70,
   "id": "b578e397",
   "metadata": {},
   "outputs": [
    {
     "data": {
      "text/plain": [
       "-4"
      ]
     },
     "execution_count": 70,
     "metadata": {},
     "output_type": "execute_result"
    }
   ],
   "source": [
    "a = 4\n",
    "-a"
   ]
  },
  {
   "cell_type": "markdown",
   "id": "2257b4b9",
   "metadata": {},
   "source": [
    "## Using Operators Together and Order of Operations\n",
    "\n",
    "How can we use all of this learned information together? If we know the order of operations in mathematics, we will feel quite comfortable because the order of operations in Python is exactly the same as in mathematics. What is this order of operations? The rules are as follows:\n",
    "\n",
    "1. Operations within parentheses are always performed first.\n",
    "2. Multiplication and division are always performed before addition and subtraction.\n",
    "3. Operations are evaluated from left to right.\n",
    "\n",
    "However, we don't need to memorize these operations. Using parentheses where things get confusing can be a lifesaver :) Let's look at some examples now."
   ]
  },
  {
   "cell_type": "code",
   "execution_count": 72,
   "id": "b8375f09",
   "metadata": {},
   "outputs": [
    {
     "data": {
      "text/plain": [
       "5.5"
      ]
     },
     "execution_count": 72,
     "metadata": {},
     "output_type": "execute_result"
    }
   ],
   "source": [
    "3 + 5 * 2 / 4"
   ]
  },
  {
   "cell_type": "code",
   "execution_count": 73,
   "id": "334e5751",
   "metadata": {},
   "outputs": [
    {
     "data": {
      "text/plain": [
       "22.0"
      ]
     },
     "execution_count": 73,
     "metadata": {},
     "output_type": "execute_result"
    }
   ],
   "source": [
    "16 + 64 / 4 -  10"
   ]
  },
  {
   "cell_type": "code",
   "execution_count": null,
   "id": "34330007",
   "metadata": {},
   "outputs": [],
   "source": []
  }
 ],
 "metadata": {
  "kernelspec": {
   "display_name": "Python 3 (ipykernel)",
   "language": "python",
   "name": "python3"
  },
  "language_info": {
   "codemirror_mode": {
    "name": "ipython",
    "version": 3
   },
   "file_extension": ".py",
   "mimetype": "text/x-python",
   "name": "python",
   "nbconvert_exporter": "python",
   "pygments_lexer": "ipython3",
   "version": "3.11.5"
  }
 },
 "nbformat": 4,
 "nbformat_minor": 5
}
