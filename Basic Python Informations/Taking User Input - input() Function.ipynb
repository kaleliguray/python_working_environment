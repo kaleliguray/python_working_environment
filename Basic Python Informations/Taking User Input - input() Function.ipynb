{
 "cells": [
  {
   "cell_type": "markdown",
   "id": "af31834f",
   "metadata": {},
   "source": [
    "# Taking User Input - input() Function\n",
    "\n",
    "When programming, taking input from the user is quite important. Python provides the input() function for this purpose.\n",
    "\n",
    "Usage of the input() function\n",
    "\n",
    "The input() function can be used as follows:"
   ]
  },
  {
   "cell_type": "code",
   "execution_count": 1,
   "id": "84e6a9ea",
   "metadata": {},
   "outputs": [
    {
     "name": "stdout",
     "output_type": "stream",
     "text": [
      "45\n"
     ]
    },
    {
     "data": {
      "text/plain": [
       "'45'"
      ]
     },
     "execution_count": 1,
     "metadata": {},
     "output_type": "execute_result"
    }
   ],
   "source": [
    "input() # When executed, the input function expects an input from us."
   ]
  },
  {
   "cell_type": "markdown",
   "id": "f10dc3d0",
   "metadata": {},
   "source": [
    "If we want, we can also send a prompt message inside the function."
   ]
  },
  {
   "cell_type": "code",
   "execution_count": 2,
   "id": "7af125ec",
   "metadata": {},
   "outputs": [
    {
     "name": "stdout",
     "output_type": "stream",
     "text": [
      "Please enter a number:45\n"
     ]
    },
    {
     "data": {
      "text/plain": [
       "'45'"
      ]
     },
     "execution_count": 2,
     "metadata": {},
     "output_type": "execute_result"
    }
   ],
   "source": [
    "input(\"Please enter a number:\")"
   ]
  },
  {
   "cell_type": "markdown",
   "id": "b86d5577",
   "metadata": {},
   "source": [
    "We can obtain the value entered by the user via the input() function like this:"
   ]
  },
  {
   "cell_type": "code",
   "execution_count": 3,
   "id": "5a0bb572",
   "metadata": {},
   "outputs": [
    {
     "name": "stdout",
     "output_type": "stream",
     "text": [
      "Please enter a number:45\n",
      "The value entered by the user: 45\n"
     ]
    }
   ],
   "source": [
    "a = input(\"Please enter a number:\") # The value entered by the user will be assigned to the variable a.\n",
    "print(\"The value entered by the user:\", a)"
   ]
  },
  {
   "cell_type": "markdown",
   "id": "bc1f67e4",
   "metadata": {},
   "source": [
    "<b>The value entered by the user via the input function is returned to us as a string.</b>"
   ]
  },
  {
   "cell_type": "code",
   "execution_count": 4,
   "id": "e4123b3b",
   "metadata": {},
   "outputs": [
    {
     "name": "stdout",
     "output_type": "stream",
     "text": [
      "Please enter a number:45\n",
      "<class 'str'>\n"
     ]
    }
   ],
   "source": [
    "a = input(\"Please enter a number:\")\n",
    "print(type(a))"
   ]
  },
  {
   "cell_type": "markdown",
   "id": "5a9d0505",
   "metadata": {},
   "source": [
    "If we are going to perform operations with a number, we need to convert the value we received from the user (string) into a float or int using the float or int function. Because a program like the following will not work correctly:"
   ]
  },
  {
   "cell_type": "code",
   "execution_count": 5,
   "id": "78c4d81d",
   "metadata": {},
   "outputs": [
    {
     "name": "stdout",
     "output_type": "stream",
     "text": [
      "Please enter a number:5\n",
      "555\n"
     ]
    }
   ],
   "source": [
    "# Incorrect Usage\n",
    "a = input(\"Please enter a number:\")\n",
    "print(a * 3) # If the input value is 5, we expect the result to be 15. However, the result appears as 555."
   ]
  },
  {
   "cell_type": "code",
   "execution_count": 6,
   "id": "b24e34cc",
   "metadata": {},
   "outputs": [
    {
     "name": "stdout",
     "output_type": "stream",
     "text": [
      "Please enter a number:5\n",
      "15\n"
     ]
    }
   ],
   "source": [
    "# Correct Usage\n",
    "a = int(input(\"Please enter a number:\")) # Data type conversion\n",
    "print(a * 3) "
   ]
  },
  {
   "cell_type": "code",
   "execution_count": 7,
   "id": "1a491d4f",
   "metadata": {},
   "outputs": [
    {
     "name": "stdout",
     "output_type": "stream",
     "text": [
      "Please enter a number:5.4\n",
      "5.45.45.4\n"
     ]
    }
   ],
   "source": [
    "# Incorrect Usage\n",
    "a = input(\"Please enter a number:\")\n",
    "print(a * 3) # If the input value is 5.4, we expect the result to be 16.2. However, the result appears as 5.45.45.4."
   ]
  },
  {
   "cell_type": "code",
   "execution_count": 8,
   "id": "71b62f53",
   "metadata": {},
   "outputs": [
    {
     "name": "stdout",
     "output_type": "stream",
     "text": [
      "Please enter a number:5.4\n",
      "16.200000000000003\n"
     ]
    }
   ],
   "source": [
    "# Correct Usage\n",
    "a = float(input(\"Please enter a number:\"))\n",
    "print(a * 3) # If the input value is 5.4, we expect the result to be 16.2. However, the result appears as 5.45.45.4."
   ]
  },
  {
   "cell_type": "markdown",
   "id": "ec07a50a",
   "metadata": {},
   "source": [
    "Let's write a sample program."
   ]
  },
  {
   "cell_type": "code",
   "execution_count": 9,
   "id": "7bfbf4fb",
   "metadata": {},
   "outputs": [
    {
     "name": "stdout",
     "output_type": "stream",
     "text": [
      "First Number:12\n",
      "Second Number:24\n",
      "Third Number:54\n",
      "Sum: 90\n"
     ]
    }
   ],
   "source": [
    "a = int(input(\"First Number:\"))\n",
    "b = int(input(\"Second Number:\"))\n",
    "c = int(input(\"Third Number:\"))\n",
    "\n",
    "print(\"Sum:\", a + b + c)"
   ]
  },
  {
   "cell_type": "markdown",
   "id": "24802055",
   "metadata": {},
   "source": [
    "So what if the user enters an incorrect value?"
   ]
  },
  {
   "cell_type": "code",
   "execution_count": 10,
   "id": "8876c4cb",
   "metadata": {},
   "outputs": [
    {
     "name": "stdout",
     "output_type": "stream",
     "text": [
      "Enter a number:45asdafas\n"
     ]
    },
    {
     "ename": "ValueError",
     "evalue": "invalid literal for int() with base 10: '45asdafas'",
     "output_type": "error",
     "traceback": [
      "\u001b[0;31m---------------------------------------------------------------------------\u001b[0m",
      "\u001b[0;31mValueError\u001b[0m                                Traceback (most recent call last)",
      "Cell \u001b[0;32mIn[10], line 1\u001b[0m\n\u001b[0;32m----> 1\u001b[0m a \u001b[38;5;241m=\u001b[39m \u001b[38;5;28mint\u001b[39m(\u001b[38;5;28minput\u001b[39m(\u001b[38;5;124m\"\u001b[39m\u001b[38;5;124mEnter a number:\u001b[39m\u001b[38;5;124m\"\u001b[39m)) \u001b[38;5;66;03m# Error occurred because we couldn't convert.\u001b[39;00m\n\u001b[1;32m      2\u001b[0m \u001b[38;5;28mprint\u001b[39m(a)\n",
      "\u001b[0;31mValueError\u001b[0m: invalid literal for int() with base 10: '45asdafas'"
     ]
    }
   ],
   "source": [
    "a = int(input(\"Enter a number:\")) # Error occurred because we couldn't convert.\n",
    "print(a)"
   ]
  }
 ],
 "metadata": {
  "kernelspec": {
   "display_name": "Python 3 (ipykernel)",
   "language": "python",
   "name": "python3"
  },
  "language_info": {
   "codemirror_mode": {
    "name": "ipython",
    "version": 3
   },
   "file_extension": ".py",
   "mimetype": "text/x-python",
   "name": "python",
   "nbconvert_exporter": "python",
   "pygments_lexer": "ipython3",
   "version": "3.11.5"
  }
 },
 "nbformat": 4,
 "nbformat_minor": 5
}
