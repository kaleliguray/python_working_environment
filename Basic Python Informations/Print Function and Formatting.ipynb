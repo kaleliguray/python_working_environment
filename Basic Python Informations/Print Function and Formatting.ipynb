{
 "cells": [
  {
   "cell_type": "markdown",
   "id": "c7c68191",
   "metadata": {},
   "source": [
    "# Print Function and Formatting\n",
    "\n",
    "In this section, we will learn the print() function and formatting methods we use to print data types on the screen.\n",
    "\n",
    "## Print() Function\n",
    "\n",
    "When we write our codes to files, if we want to print a value on the screen, we use the print function. It is very simple to use and has different features. Let's look at our examples."
   ]
  },
  {
   "cell_type": "code",
   "execution_count": 1,
   "id": "e30a7e83",
   "metadata": {},
   "outputs": [
    {
     "name": "stdout",
     "output_type": "stream",
     "text": [
      "35\n"
     ]
    }
   ],
   "source": [
    "print(35)"
   ]
  },
  {
   "cell_type": "code",
   "execution_count": 2,
   "id": "3cd9ecab",
   "metadata": {},
   "outputs": [
    {
     "name": "stdout",
     "output_type": "stream",
     "text": [
      "3.14\n"
     ]
    }
   ],
   "source": [
    "print(3.14)"
   ]
  },
  {
   "cell_type": "code",
   "execution_count": 3,
   "id": "9b89525a",
   "metadata": {},
   "outputs": [
    {
     "name": "stdout",
     "output_type": "stream",
     "text": [
      "3.14\n"
     ]
    }
   ],
   "source": [
    "print(3.14)"
   ]
  },
  {
   "cell_type": "code",
   "execution_count": 4,
   "id": "59d6dbee",
   "metadata": {},
   "outputs": [
    {
     "name": "stdout",
     "output_type": "stream",
     "text": [
      "Python is a programming language\n"
     ]
    }
   ],
   "source": [
    "print(\"Python is a programming language\")"
   ]
  },
  {
   "cell_type": "markdown",
   "id": "6736a857",
   "metadata": {},
   "source": [
    "As we see in the operations here, we enter the value we want to print into the print function, and this function prints our value on the screen. So what do we do if we want to print several values ​​on the same line? For this reason, we include its character among our values."
   ]
  },
  {
   "cell_type": "code",
   "execution_count": 5,
   "id": "ede19bd9",
   "metadata": {},
   "outputs": [
    {
     "name": "stdout",
     "output_type": "stream",
     "text": [
      "Python Java 1990 189 x 3.14\n"
     ]
    }
   ],
   "source": [
    "print(\"Python\",\"Java\",1990, 189, \"x\", 3.14)"
   ]
  },
  {
   "cell_type": "markdown",
   "id": "04f1be09",
   "metadata": {},
   "source": [
    "## Special Characters in Strings\n",
    "\n",
    "There are special characters used in strings in Python, and the places where they are used make our work easier. The two most used are:\n",
    "\n",
    "### \\n character\n",
    "\n",
    "If the print() function encounters such a character in the strings, it continues printing from the bottom line to the screen. Let's look at our examples now."
   ]
  },
  {
   "cell_type": "code",
   "execution_count": 6,
   "id": "16afccde",
   "metadata": {},
   "outputs": [
    {
     "name": "stdout",
     "output_type": "stream",
     "text": [
      "Python\n",
      "Programming\n",
      "Language\n"
     ]
    }
   ],
   "source": [
    "print(\"Python\\nProgramming\\nLanguage\")"
   ]
  },
  {
   "cell_type": "markdown",
   "id": "0877e3c5",
   "metadata": {},
   "source": [
    "### \\t character\n",
    "\n",
    "If the print() function encounters such a character in the strings, it continues printing to the screen by leaving a tab space. Let's look at our examples now."
   ]
  },
  {
   "cell_type": "code",
   "execution_count": 12,
   "id": "f1aeb932",
   "metadata": {},
   "outputs": [
    {
     "name": "stdout",
     "output_type": "stream",
     "text": [
      "March\tApril\tJune\n"
     ]
    }
   ],
   "source": [
    "print(\"March\\tApril\\tJune\")"
   ]
  },
  {
   "cell_type": "code",
   "execution_count": 13,
   "id": "df033a43",
   "metadata": {},
   "outputs": [
    {
     "name": "stdout",
     "output_type": "stream",
     "text": [
      "a\t\t\t\t\tb\n"
     ]
    }
   ],
   "source": [
    "print(\"a\\t\\t\\t\\t\\tb\")"
   ]
  },
  {
   "cell_type": "markdown",
   "id": "d10ca1a3",
   "metadata": {},
   "source": [
    "## type() function\n",
    "\n",
    "Speaking of the print() function, it is useful to learn the type() function. The type() function tells which data type the value sent into it is."
   ]
  },
  {
   "cell_type": "code",
   "execution_count": 14,
   "id": "92950fd9",
   "metadata": {},
   "outputs": [
    {
     "name": "stdout",
     "output_type": "stream",
     "text": [
      "<class 'int'>\n"
     ]
    }
   ],
   "source": [
    "a = 65\n",
    "print(type(a))"
   ]
  },
  {
   "cell_type": "code",
   "execution_count": 15,
   "id": "d06c84d3",
   "metadata": {},
   "outputs": [
    {
     "name": "stdout",
     "output_type": "stream",
     "text": [
      "<class 'float'>\n"
     ]
    }
   ],
   "source": [
    "a = 5.87\n",
    "print(type(a))"
   ]
  },
  {
   "cell_type": "code",
   "execution_count": 18,
   "id": "8ac8cab7",
   "metadata": {},
   "outputs": [
    {
     "name": "stdout",
     "output_type": "stream",
     "text": [
      "<class 'str'>\n"
     ]
    }
   ],
   "source": [
    "a = \"John\"\n",
    "print(type(a))"
   ]
  },
  {
   "cell_type": "markdown",
   "id": "3db2a929",
   "metadata": {},
   "source": [
    "## Features of the Print() Function\n",
    "\n",
    "If we use the useful features of the print() function while printing to the screen, we can make the code we write more efficient. For this reason, we will talk about 2 features here.\n",
    "\n",
    "### sep parameter\n",
    "\n",
    "The sep parameter, which can be used in the print() function, allows the characters we want to be placed between the values ​​we print. We know that if we do not use this parameter, spaces are placed between the values ​​by default. Let's look at examples."
   ]
  },
  {
   "cell_type": "code",
   "execution_count": 19,
   "id": "8f6d2bfa",
   "metadata": {},
   "outputs": [
    {
     "name": "stdout",
     "output_type": "stream",
     "text": [
      "3 4 5 6 7 8 9\n"
     ]
    }
   ],
   "source": [
    "print(3,4,5,6,7,8,9)"
   ]
  },
  {
   "cell_type": "code",
   "execution_count": 21,
   "id": "b11a493e",
   "metadata": {},
   "outputs": [
    {
     "name": "stdout",
     "output_type": "stream",
     "text": [
      "3-4-5-6-7-8-9\n"
     ]
    }
   ],
   "source": [
    "print(3,4,5,6,7,8,9,sep = \"-\")"
   ]
  },
  {
   "cell_type": "code",
   "execution_count": 22,
   "id": "9149f25b",
   "metadata": {},
   "outputs": [
    {
     "name": "stdout",
     "output_type": "stream",
     "text": [
      "06/04/2015\n"
     ]
    }
   ],
   "source": [
    "print(\"06\",\"04\",\"2015\",sep = \"/\")"
   ]
  },
  {
   "cell_type": "code",
   "execution_count": 23,
   "id": "e1cb3d1f",
   "metadata": {},
   "outputs": [
    {
     "name": "stdout",
     "output_type": "stream",
     "text": [
      "Python\n",
      "Programming\n",
      "Language\n"
     ]
    }
   ],
   "source": [
    "print(\"Python\",\"Programming\",\"Language\",sep = \"\\n\")"
   ]
  },
  {
   "cell_type": "markdown",
   "id": "695d157c",
   "metadata": {},
   "source": [
    "### Starred Parameters\n",
    "\n",
    "If we put a * sign at the beginning of a string and send it to the print function, it will be divided into string characters and each character will be treated as a separate string and printed on the screen."
   ]
  },
  {
   "cell_type": "code",
   "execution_count": 24,
   "id": "58dd091e",
   "metadata": {},
   "outputs": [
    {
     "name": "stdout",
     "output_type": "stream",
     "text": [
      "P y t h o n\n"
     ]
    }
   ],
   "source": [
    "print(*\"Python\")"
   ]
  },
  {
   "cell_type": "code",
   "execution_count": 25,
   "id": "61a7bdda",
   "metadata": {},
   "outputs": [
    {
     "name": "stdout",
     "output_type": "stream",
     "text": [
      "P\n",
      "y\n",
      "t\n",
      "h\n",
      "o\n",
      "n\n"
     ]
    }
   ],
   "source": [
    "print(*\"Python\",sep = \"\\n\")"
   ]
  },
  {
   "cell_type": "code",
   "execution_count": 26,
   "id": "e7fb63c1",
   "metadata": {},
   "outputs": [
    {
     "name": "stdout",
     "output_type": "stream",
     "text": [
      "I.M.F\n"
     ]
    }
   ],
   "source": [
    "print(*\"IMF\",sep =\".\")"
   ]
  },
  {
   "cell_type": "markdown",
   "id": "987de38a",
   "metadata": {},
   "source": [
    "## Formatting\n",
    "\n",
    "While programming, in some places you can use predefined string, float, int, etc. within a string. We may want to place the values. For such cases, there is a format() function in Python. For example, we have 3 integer values ​​in our program and we want to print them to the screen in a string. We can use the format() function for this. Since the format() function has many features, I will only show its most used feature here."
   ]
  },
  {
   "cell_type": "code",
   "execution_count": 27,
   "id": "fdd5291d",
   "metadata": {},
   "outputs": [
    {
     "data": {
      "text/plain": [
       "'3.1423 5.324 7.324324'"
      ]
     },
     "execution_count": 27,
     "metadata": {},
     "output_type": "execute_result"
    }
   ],
   "source": [
    "\"{} {} {}\".format(3.1423,5.324,7.324324)"
   ]
  },
  {
   "cell_type": "code",
   "execution_count": 28,
   "id": "704bbeac",
   "metadata": {},
   "outputs": [
    {
     "name": "stdout",
     "output_type": "stream",
     "text": [
      "3 + 4 'nin toplamı 7 'dır\n"
     ]
    }
   ],
   "source": [
    "a = 3\n",
    "b = 4\n",
    "print(\"{} + {} 'nin toplamı {} 'dır\".format(a,b,a+b))"
   ]
  },
  {
   "cell_type": "code",
   "execution_count": 29,
   "id": "f3789e33",
   "metadata": {},
   "outputs": [
    {
     "data": {
      "text/plain": [
       "'100 Python 3.14'"
      ]
     },
     "execution_count": 29,
     "metadata": {},
     "output_type": "execute_result"
    }
   ],
   "source": [
    "\"{2} {1} {0}\".format(3.14,\"Python\",100)"
   ]
  },
  {
   "cell_type": "code",
   "execution_count": 31,
   "id": "5f4d9214",
   "metadata": {},
   "outputs": [
    {
     "data": {
      "text/plain": [
       "'3.15 5.32 7.324'"
      ]
     },
     "execution_count": 31,
     "metadata": {},
     "output_type": "execute_result"
    }
   ],
   "source": [
    "\"{:.2f} {:.2f} {:.3f}\".format(3.1463,5.324,7.324324)"
   ]
  },
  {
   "cell_type": "markdown",
   "id": "7e5b5bbf",
   "metadata": {},
   "source": [
    "> You can use the format function whenever you need it by using the following website; https://pyformat.info"
   ]
  },
  {
   "cell_type": "code",
   "execution_count": null,
   "id": "f1afe568",
   "metadata": {},
   "outputs": [],
   "source": []
  }
 ],
 "metadata": {
  "kernelspec": {
   "display_name": "Python 3 (ipykernel)",
   "language": "python",
   "name": "python3"
  },
  "language_info": {
   "codemirror_mode": {
    "name": "ipython",
    "version": 3
   },
   "file_extension": ".py",
   "mimetype": "text/x-python",
   "name": "python",
   "nbconvert_exporter": "python",
   "pygments_lexer": "ipython3",
   "version": "3.11.5"
  }
 },
 "nbformat": 4,
 "nbformat_minor": 5
}
