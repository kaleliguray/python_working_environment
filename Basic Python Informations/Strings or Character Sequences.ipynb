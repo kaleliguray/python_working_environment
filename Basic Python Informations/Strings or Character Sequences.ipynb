{
 "cells": [
  {
   "cell_type": "markdown",
   "id": "d4af341f",
   "metadata": {},
   "source": [
    "# Strings or Character Sequences\n"
   ]
  },
  {
   "cell_type": "markdown",
   "id": "6c8fa17c",
   "metadata": {},
   "source": [
    "In this topic, we'll be learning about strings. Strings, or character sequences are just like the text we use in real life. They are a data type in Python and essentially a sequence of characters. For example, the string \"john\" consists of the characters j, o, h and n in order. In this topic, we'll explore strings and their properties."
   ]
  },
  {
   "cell_type": "markdown",
   "id": "3b63e2b1",
   "metadata": {},
   "source": [
    "## Creating Strings\n",
    "\n",
    "There are many ways to create strings in Python. Which one you use is entirely up to you. Let's try to see the string creation processes."
   ]
  },
  {
   "cell_type": "code",
   "execution_count": 1,
   "id": "258b6dce",
   "metadata": {},
   "outputs": [
    {
     "data": {
      "text/plain": [
       "'Susan Smith'"
      ]
     },
     "execution_count": 1,
     "metadata": {},
     "output_type": "execute_result"
    }
   ],
   "source": [
    "# Using single quotes\n",
    "'Susan Smith'"
   ]
  },
  {
   "cell_type": "code",
   "execution_count": 2,
   "id": "66aeb4dd",
   "metadata": {},
   "outputs": [
    {
     "data": {
      "text/plain": [
       "'John Doe'"
      ]
     },
     "execution_count": 2,
     "metadata": {},
     "output_type": "execute_result"
    }
   ],
   "source": [
    "# Using double quotes\n",
    "\"John Doe\""
   ]
  },
  {
   "cell_type": "code",
   "execution_count": 3,
   "id": "7a0d969e",
   "metadata": {},
   "outputs": [
    {
     "data": {
      "text/plain": [
       "'Alice Johnson'"
      ]
     },
     "execution_count": 3,
     "metadata": {},
     "output_type": "execute_result"
    }
   ],
   "source": [
    "# Using triple quotes\n",
    "\"\"\"Alice Johnson\"\"\""
   ]
  },
  {
   "cell_type": "markdown",
   "id": "6fc2d73b",
   "metadata": {},
   "source": [
    "The important point to note here is that if we're creating a string with double quotes, we should end the creation of the string with double quotes as well."
   ]
  },
  {
   "cell_type": "code",
   "execution_count": 4,
   "id": "88da8aa8",
   "metadata": {},
   "outputs": [
    {
     "ename": "SyntaxError",
     "evalue": "unterminated string literal (detected at line 1) (3112481771.py, line 1)",
     "output_type": "error",
     "traceback": [
      "\u001b[0;36m  Cell \u001b[0;32mIn[4], line 1\u001b[0;36m\u001b[0m\n\u001b[0;31m    \"Hello, World'\u001b[0m\n\u001b[0m    ^\u001b[0m\n\u001b[0;31mSyntaxError\u001b[0m\u001b[0;31m:\u001b[0m unterminated string literal (detected at line 1)\n"
     ]
    }
   ],
   "source": [
    "\"Hello, World'"
   ]
  },
  {
   "cell_type": "markdown",
   "id": "708c8f7d",
   "metadata": {},
   "source": [
    "Now let's create a variable of string data type. Since strings are a data type, we can create and use variables from them."
   ]
  },
  {
   "cell_type": "code",
   "execution_count": 6,
   "id": "05740938",
   "metadata": {},
   "outputs": [
    {
     "name": "stdout",
     "output_type": "stream",
     "text": [
      "Hello, Mr.Smith\n"
     ]
    }
   ],
   "source": [
    "x = \"Hello, Mr.Smith\"\n",
    "print(x)"
   ]
  },
  {
   "cell_type": "code",
   "execution_count": 9,
   "id": "459b0a81",
   "metadata": {},
   "outputs": [
    {
     "name": "stdout",
     "output_type": "stream",
     "text": [
      "How are you ?\n"
     ]
    }
   ],
   "source": [
    "how = \"How are you ?\"\n",
    "print(how)"
   ]
  },
  {
   "cell_type": "markdown",
   "id": "1831e85e",
   "metadata": {},
   "source": [
    "## String Indexing and Slicing\n",
    "\n",
    "Since strings are sequences of characters, each character has a specific position within the string. For example, in the string \"john\", the positions of the characters j, o, h and n are called indices. In Python, and generally in most programming languages (except Octave), indexing of strings starts from \"0\". Now let's see how we can access characters in a string using indices."
   ]
  },
  {
   "cell_type": "code",
   "execution_count": 11,
   "id": "de1a4ce7",
   "metadata": {},
   "outputs": [
    {
     "data": {
      "text/plain": [
       "'John'"
      ]
     },
     "execution_count": 11,
     "metadata": {},
     "output_type": "execute_result"
    }
   ],
   "source": [
    "x = \"John\"\n",
    "x"
   ]
  },
  {
   "cell_type": "code",
   "execution_count": 12,
   "id": "fd3e58c9",
   "metadata": {},
   "outputs": [
    {
     "data": {
      "text/plain": [
       "'J'"
      ]
     },
     "execution_count": 12,
     "metadata": {},
     "output_type": "execute_result"
    }
   ],
   "source": [
    "x[0]"
   ]
  },
  {
   "cell_type": "code",
   "execution_count": 16,
   "id": "b9fdbe89",
   "metadata": {},
   "outputs": [
    {
     "data": {
      "text/plain": [
       "'o'"
      ]
     },
     "execution_count": 16,
     "metadata": {},
     "output_type": "execute_result"
    }
   ],
   "source": [
    "x[1]"
   ]
  },
  {
   "cell_type": "code",
   "execution_count": 17,
   "id": "8893be3d",
   "metadata": {},
   "outputs": [
    {
     "data": {
      "text/plain": [
       "'h'"
      ]
     },
     "execution_count": 17,
     "metadata": {},
     "output_type": "execute_result"
    }
   ],
   "source": [
    "x[2]"
   ]
  },
  {
   "cell_type": "code",
   "execution_count": 18,
   "id": "24bd57ae",
   "metadata": {},
   "outputs": [
    {
     "data": {
      "text/plain": [
       "'n'"
      ]
     },
     "execution_count": 18,
     "metadata": {},
     "output_type": "execute_result"
    }
   ],
   "source": [
    "x[3]"
   ]
  },
  {
   "cell_type": "markdown",
   "id": "dde9d328",
   "metadata": {},
   "source": [
    "In Python, strings can be indexed from the beginning as well as from the end. They are indexed from the end starting with -1, -2, and so on."
   ]
  },
  {
   "cell_type": "code",
   "execution_count": 19,
   "id": "fe8f0a3c",
   "metadata": {},
   "outputs": [
    {
     "data": {
      "text/plain": [
       "'n'"
      ]
     },
     "execution_count": 19,
     "metadata": {},
     "output_type": "execute_result"
    }
   ],
   "source": [
    "x[-1]"
   ]
  },
  {
   "cell_type": "code",
   "execution_count": 20,
   "id": "91bda8f9",
   "metadata": {},
   "outputs": [
    {
     "data": {
      "text/plain": [
       "'o'"
      ]
     },
     "execution_count": 20,
     "metadata": {},
     "output_type": "execute_result"
    }
   ],
   "source": [
    "x[-3]"
   ]
  },
  {
   "cell_type": "code",
   "execution_count": 21,
   "id": "737be862",
   "metadata": {},
   "outputs": [
    {
     "data": {
      "text/plain": [
       "'J'"
      ]
     },
     "execution_count": 21,
     "metadata": {},
     "output_type": "execute_result"
    }
   ],
   "source": [
    "x[-4]"
   ]
  },
  {
   "cell_type": "markdown",
   "id": "a8baeba4",
   "metadata": {},
   "source": [
    "So, how do we obtain only a specific part of a long string? We'll use indices, :, and [] for this purpose. Our formula looks like this:\n",
    "\n",
    "[start index : end index : step value]\n",
    "\n",
    "Let's take a look at some examples."
   ]
  },
  {
   "cell_type": "code",
   "execution_count": 49,
   "id": "8cd1afa6",
   "metadata": {},
   "outputs": [
    {
     "data": {
      "text/plain": [
       "'Python Programming Language'"
      ]
     },
     "execution_count": 49,
     "metadata": {},
     "output_type": "execute_result"
    }
   ],
   "source": [
    "x = \"Python Programming Language\"\n",
    "x"
   ]
  },
  {
   "cell_type": "code",
   "execution_count": 24,
   "id": "d544aef5",
   "metadata": {},
   "outputs": [
    {
     "data": {
      "text/plain": [
       "'hnP'"
      ]
     },
     "execution_count": 24,
     "metadata": {},
     "output_type": "execute_result"
    }
   ],
   "source": [
    "x[3:8:2]"
   ]
  },
  {
   "cell_type": "code",
   "execution_count": 25,
   "id": "c92fc05a",
   "metadata": {},
   "outputs": [
    {
     "data": {
      "text/plain": [
       "'on Programming Language'"
      ]
     },
     "execution_count": 25,
     "metadata": {},
     "output_type": "execute_result"
    }
   ],
   "source": [
    "x[4:]"
   ]
  },
  {
   "cell_type": "code",
   "execution_count": 26,
   "id": "6a486b5a",
   "metadata": {},
   "outputs": [
    {
     "data": {
      "text/plain": [
       "'Python P'"
      ]
     },
     "execution_count": 26,
     "metadata": {},
     "output_type": "execute_result"
    }
   ],
   "source": [
    "x[:8]"
   ]
  },
  {
   "cell_type": "code",
   "execution_count": 27,
   "id": "a5efa523",
   "metadata": {},
   "outputs": [
    {
     "data": {
      "text/plain": [
       "'Python Programming Language'"
      ]
     },
     "execution_count": 27,
     "metadata": {},
     "output_type": "execute_result"
    }
   ],
   "source": [
    "x[:]"
   ]
  },
  {
   "cell_type": "code",
   "execution_count": 28,
   "id": "eaf2af92",
   "metadata": {},
   "outputs": [
    {
     "data": {
      "text/plain": [
       "'Ph oai na'"
      ]
     },
     "execution_count": 28,
     "metadata": {},
     "output_type": "execute_result"
    }
   ],
   "source": [
    "x[::3]"
   ]
  },
  {
   "cell_type": "code",
   "execution_count": 29,
   "id": "c9202ad9",
   "metadata": {},
   "outputs": [
    {
     "data": {
      "text/plain": [
       "'egaugnaL gnimmargorP nohtyP'"
      ]
     },
     "execution_count": 29,
     "metadata": {},
     "output_type": "execute_result"
    }
   ],
   "source": [
    "x[::-1]"
   ]
  },
  {
   "cell_type": "code",
   "execution_count": 31,
   "id": "0eab9049",
   "metadata": {},
   "outputs": [
    {
     "data": {
      "text/plain": [
       "'Python Programming Languag'"
      ]
     },
     "execution_count": 31,
     "metadata": {},
     "output_type": "execute_result"
    }
   ],
   "source": [
    "x[:-1]"
   ]
  },
  {
   "cell_type": "markdown",
   "id": "fd4399e9",
   "metadata": {},
   "source": [
    "## String Properties\n",
    "How do we find the length of a string? In Python, we use the len() function for this purpose."
   ]
  },
  {
   "cell_type": "code",
   "execution_count": 44,
   "id": "091c39da",
   "metadata": {},
   "outputs": [
    {
     "data": {
      "text/plain": [
       "'Python Programming Language'"
      ]
     },
     "execution_count": 44,
     "metadata": {},
     "output_type": "execute_result"
    }
   ],
   "source": [
    "x"
   ]
  },
  {
   "cell_type": "code",
   "execution_count": 33,
   "id": "cc0bbc6b",
   "metadata": {},
   "outputs": [
    {
     "data": {
      "text/plain": [
       "27"
      ]
     },
     "execution_count": 33,
     "metadata": {},
     "output_type": "execute_result"
    }
   ],
   "source": [
    "len(x)"
   ]
  },
  {
   "cell_type": "code",
   "execution_count": 40,
   "id": "716d6e0c",
   "metadata": {},
   "outputs": [
    {
     "ename": "TypeError",
     "evalue": "'str' object does not support item assignment",
     "output_type": "error",
     "traceback": [
      "\u001b[0;31m---------------------------------------------------------------------------\u001b[0m",
      "\u001b[0;31mTypeError\u001b[0m                                 Traceback (most recent call last)",
      "Cell \u001b[0;32mIn[40], line 1\u001b[0m\n\u001b[0;32m----> 1\u001b[0m x[\u001b[38;5;241m1\u001b[39m] \u001b[38;5;241m=\u001b[39m \u001b[38;5;124m\"\u001b[39m\u001b[38;5;124mw\u001b[39m\u001b[38;5;124m\"\u001b[39m\n",
      "\u001b[0;31mTypeError\u001b[0m: 'str' object does not support item assignment"
     ]
    }
   ],
   "source": [
    "x[1] = \"w\""
   ]
  },
  {
   "cell_type": "code",
   "execution_count": 50,
   "id": "d632791e",
   "metadata": {},
   "outputs": [
    {
     "data": {
      "text/plain": [
       "'Python Programming Language is the best'"
      ]
     },
     "execution_count": 50,
     "metadata": {},
     "output_type": "execute_result"
    }
   ],
   "source": [
    "x = x + \" is the best\"\n",
    "x"
   ]
  },
  {
   "cell_type": "code",
   "execution_count": 53,
   "id": "51d60b90",
   "metadata": {},
   "outputs": [
    {
     "data": {
      "text/plain": [
       "' Java Programming Language'"
      ]
     },
     "execution_count": 53,
     "metadata": {},
     "output_type": "execute_result"
    }
   ],
   "source": [
    "a = \" Java\"\n",
    "b = \" Programming\"\n",
    "c = \" Language\"\n",
    "a + b + c"
   ]
  },
  {
   "cell_type": "code",
   "execution_count": 55,
   "id": "2c56220f",
   "metadata": {},
   "outputs": [
    {
     "data": {
      "text/plain": [
       "' Hello World!  Hello World!  Hello World! '"
      ]
     },
     "execution_count": 55,
     "metadata": {},
     "output_type": "execute_result"
    }
   ],
   "source": [
    "i = \" Hello World! \"\n",
    "i * 3"
   ]
  },
  {
   "cell_type": "code",
   "execution_count": null,
   "id": "80e3dd29",
   "metadata": {},
   "outputs": [],
   "source": []
  }
 ],
 "metadata": {
  "kernelspec": {
   "display_name": "Python 3 (ipykernel)",
   "language": "python",
   "name": "python3"
  },
  "language_info": {
   "codemirror_mode": {
    "name": "ipython",
    "version": 3
   },
   "file_extension": ".py",
   "mimetype": "text/x-python",
   "name": "python",
   "nbconvert_exporter": "python",
   "pygments_lexer": "ipython3",
   "version": "3.11.5"
  }
 },
 "nbformat": 4,
 "nbformat_minor": 5
}
