{
 "cells": [
  {
   "cell_type": "markdown",
   "id": "6ff879e8",
   "metadata": {},
   "source": [
    "# Dictionaries\n",
    "\n",
    "Dictionaries, or dictionaries in English, are a data type that behaves similar to dictionaries in real life. This data type is structurally different from all the data types we have seen so far. Unlike lists, which store each element with an index, in dictionaries, elements are stored with a key-value pair. In this sense, they are quite similar to dictionaries in real life.\n",
    "\n",
    "\n",
    "## Creating a Dictionary"
   ]
  },
  {
   "cell_type": "code",
   "execution_count": 2,
   "id": "524cab30",
   "metadata": {},
   "outputs": [
    {
     "data": {
      "text/plain": [
       "{'zero': 0, 'one': 1, 'two': 2, 'three': 3}"
      ]
     },
     "execution_count": 2,
     "metadata": {},
     "output_type": "execute_result"
    }
   ],
   "source": [
    "# Let's place our key-value pairs in curly braces and separate them with a colon (:).\n",
    "dictionary1 = {\"zero\": 0, \"one\": 1, \"two\": 2, \"three\": 3}\n",
    "dictionary1"
   ]
  },
  {
   "cell_type": "code",
   "execution_count": 4,
   "id": "a7095fed",
   "metadata": {},
   "outputs": [
    {
     "data": {
      "text/plain": [
       "{}"
      ]
     },
     "execution_count": 4,
     "metadata": {},
     "output_type": "execute_result"
    }
   ],
   "source": [
    "# An empty dictionary\n",
    "dictionary2 = {}\n",
    "dictionary2"
   ]
  },
  {
   "cell_type": "code",
   "execution_count": 5,
   "id": "f4bfd490",
   "metadata": {},
   "outputs": [
    {
     "data": {
      "text/plain": [
       "{}"
      ]
     },
     "execution_count": 5,
     "metadata": {},
     "output_type": "execute_result"
    }
   ],
   "source": [
    "# An empty dictionary using dict()\n",
    "dictionary2 = dict()\n",
    "dictionary2"
   ]
  },
  {
   "cell_type": "markdown",
   "id": "791f60ea",
   "metadata": {},
   "source": [
    "## Accessing Dictionary Values and Adding Values to the Dictionary\n",
    "\n",
    "We mentioned that the dictionary data type is very similar to dictionaries in real life. So, to obtain a value, we will use keys instead of indices."
   ]
  },
  {
   "cell_type": "code",
   "execution_count": 7,
   "id": "ffb9faa8",
   "metadata": {},
   "outputs": [
    {
     "data": {
      "text/plain": [
       "{'zero': 0, 'one': 1, 'two': 2, 'three': 3}"
      ]
     },
     "execution_count": 7,
     "metadata": {},
     "output_type": "execute_result"
    }
   ],
   "source": [
    "dictionary1"
   ]
  },
  {
   "cell_type": "code",
   "execution_count": 8,
   "id": "35d648b0",
   "metadata": {},
   "outputs": [
    {
     "data": {
      "text/plain": [
       "1"
      ]
     },
     "execution_count": 8,
     "metadata": {},
     "output_type": "execute_result"
    }
   ],
   "source": [
    "dictionary1[\"one\"]"
   ]
  },
  {
   "cell_type": "code",
   "execution_count": 9,
   "id": "4856cd17",
   "metadata": {},
   "outputs": [
    {
     "data": {
      "text/plain": [
       "2"
      ]
     },
     "execution_count": 9,
     "metadata": {},
     "output_type": "execute_result"
    }
   ],
   "source": [
    "dictionary1[\"two\"]"
   ]
  },
  {
   "cell_type": "code",
   "execution_count": 10,
   "id": "fc75fac3",
   "metadata": {},
   "outputs": [
    {
     "ename": "KeyError",
     "evalue": "'five'",
     "output_type": "error",
     "traceback": [
      "\u001b[0;31m---------------------------------------------------------------------------\u001b[0m",
      "\u001b[0;31mKeyError\u001b[0m                                  Traceback (most recent call last)",
      "Cell \u001b[0;32mIn[10], line 1\u001b[0m\n\u001b[0;32m----> 1\u001b[0m dictionary1[\u001b[38;5;124m\"\u001b[39m\u001b[38;5;124mfive\u001b[39m\u001b[38;5;124m\"\u001b[39m]\n",
      "\u001b[0;31mKeyError\u001b[0m: 'five'"
     ]
    }
   ],
   "source": [
    "dictionary1[\"five\"]"
   ]
  },
  {
   "cell_type": "code",
   "execution_count": 11,
   "id": "1dd53141",
   "metadata": {},
   "outputs": [],
   "source": [
    "a = {\"one\": [1,2,3,4], \"two\": [[1,2],[3,4],[5,6]], \"three\": 15}"
   ]
  },
  {
   "cell_type": "code",
   "execution_count": 12,
   "id": "4cab7e7a",
   "metadata": {},
   "outputs": [
    {
     "data": {
      "text/plain": [
       "[[1, 2], [3, 4], [5, 6]]"
      ]
     },
     "execution_count": 12,
     "metadata": {},
     "output_type": "execute_result"
    }
   ],
   "source": [
    "a[\"two\"]"
   ]
  },
  {
   "cell_type": "code",
   "execution_count": 13,
   "id": "276aa416",
   "metadata": {},
   "outputs": [
    {
     "data": {
      "text/plain": [
       "4"
      ]
     },
     "execution_count": 13,
     "metadata": {},
     "output_type": "execute_result"
    }
   ],
   "source": [
    "a[\"two\"][1][1]"
   ]
  },
  {
   "cell_type": "code",
   "execution_count": 14,
   "id": "4200eee9",
   "metadata": {},
   "outputs": [
    {
     "data": {
      "text/plain": [
       "15"
      ]
     },
     "execution_count": 14,
     "metadata": {},
     "output_type": "execute_result"
    }
   ],
   "source": [
    "a[\"three\"]"
   ]
  },
  {
   "cell_type": "code",
   "execution_count": 15,
   "id": "d238b332",
   "metadata": {},
   "outputs": [],
   "source": [
    "a[\"three\"] += 5"
   ]
  },
  {
   "cell_type": "code",
   "execution_count": 16,
   "id": "8036dd5d",
   "metadata": {},
   "outputs": [
    {
     "data": {
      "text/plain": [
       "20"
      ]
     },
     "execution_count": 16,
     "metadata": {},
     "output_type": "execute_result"
    }
   ],
   "source": [
    "a[\"three\"]"
   ]
  },
  {
   "cell_type": "code",
   "execution_count": 17,
   "id": "7f3fdf2e",
   "metadata": {},
   "outputs": [
    {
     "data": {
      "text/plain": [
       "{'one': [1, 2, 3, 4], 'two': [[1, 2], [3, 4], [5, 6]], 'three': 20}"
      ]
     },
     "execution_count": 17,
     "metadata": {},
     "output_type": "execute_result"
    }
   ],
   "source": [
    "a"
   ]
  },
  {
   "cell_type": "markdown",
   "id": "5e036222",
   "metadata": {},
   "source": [
    "We can dynamically add elements to a dictionary."
   ]
  },
  {
   "cell_type": "code",
   "execution_count": 21,
   "id": "317d7339",
   "metadata": {},
   "outputs": [
    {
     "data": {
      "text/plain": [
       "{'one': 1, 'two': 2, 'three': 3}"
      ]
     },
     "execution_count": 21,
     "metadata": {},
     "output_type": "execute_result"
    }
   ],
   "source": [
    "# Let's create a dictionary.\n",
    "a = {\"one\": 1, \"two\": 2, \"three\": 3}\n",
    "a"
   ]
  },
  {
   "cell_type": "code",
   "execution_count": 24,
   "id": "35f461c0",
   "metadata": {},
   "outputs": [
    {
     "data": {
      "text/plain": [
       "{'one': 1, 'two': 2, 'three': 3, 'four': 4}"
      ]
     },
     "execution_count": 24,
     "metadata": {},
     "output_type": "execute_result"
    }
   ],
   "source": [
    "a[\"four\"] = 4\n",
    "a"
   ]
  },
  {
   "cell_type": "markdown",
   "id": "38232010",
   "metadata": {},
   "source": [
    "Notice that the newly added key and value were not appended to the end of the dictionary. Here, we see another feature of dictionaries. Unlike other data types, dictionaries are an unordered data type.\n",
    "\n",
    "### Nested Dictionaries\n",
    "\n",
    "Just like lists, nested dictionaries can also be created."
   ]
  },
  {
   "cell_type": "code",
   "execution_count": 26,
   "id": "a3717315",
   "metadata": {},
   "outputs": [
    {
     "data": {
      "text/plain": [
       "{'numbers': {'one': 1, 'two': 2, 'three': 3},\n",
       " 'fruits': {'cherry': 'summer', 'orange': 'winter', 'plum': 'summer'}}"
      ]
     },
     "execution_count": 26,
     "metadata": {},
     "output_type": "execute_result"
    }
   ],
   "source": [
    "a = {\"numbers\": {\"one\": 1, \"two\": 2, \"three\": 3}, \"fruits\": {\"cherry\": \"summer\", \"orange\": \"winter\", \"plum\": \"summer\"}}\n",
    "a"
   ]
  },
  {
   "cell_type": "code",
   "execution_count": 27,
   "id": "14f5e98f",
   "metadata": {},
   "outputs": [
    {
     "data": {
      "text/plain": [
       "1"
      ]
     },
     "execution_count": 27,
     "metadata": {},
     "output_type": "execute_result"
    }
   ],
   "source": [
    "a[\"numbers\"][\"one\"]"
   ]
  },
  {
   "cell_type": "code",
   "execution_count": 28,
   "id": "d43765a0",
   "metadata": {},
   "outputs": [
    {
     "data": {
      "text/plain": [
       "'summer'"
      ]
     },
     "execution_count": 28,
     "metadata": {},
     "output_type": "execute_result"
    }
   ],
   "source": [
    "a[\"fruits\"][\"cherry\"]"
   ]
  },
  {
   "cell_type": "markdown",
   "id": "7db3bfae",
   "metadata": {},
   "source": [
    "## Basic Dictionary Methods"
   ]
  },
  {
   "cell_type": "code",
   "execution_count": 30,
   "id": "093d80f4",
   "metadata": {},
   "outputs": [
    {
     "data": {
      "text/plain": [
       "{'one': 1, 'two': 2, 'three': 3}"
      ]
     },
     "execution_count": 30,
     "metadata": {},
     "output_type": "execute_result"
    }
   ],
   "source": [
    "new_dictionary = {\"one\": 1, \"two\": 2, \"three\": 3}\n",
    "new_dictionary"
   ]
  },
  {
   "cell_type": "code",
   "execution_count": 33,
   "id": "d0ab254c",
   "metadata": {},
   "outputs": [
    {
     "data": {
      "text/plain": [
       "dict_values([1, 2, 3])"
      ]
     },
     "execution_count": 33,
     "metadata": {},
     "output_type": "execute_result"
    }
   ],
   "source": [
    "# The values() method returns the values of the dictionary as a list.\n",
    "new_dictionary.values()"
   ]
  },
  {
   "cell_type": "code",
   "execution_count": 35,
   "id": "1b1928b9",
   "metadata": {},
   "outputs": [
    {
     "data": {
      "text/plain": [
       "dict_keys(['one', 'two', 'three'])"
      ]
     },
     "execution_count": 35,
     "metadata": {},
     "output_type": "execute_result"
    }
   ],
   "source": [
    "# The keys() method returns the keys of the dictionary as a list.\n",
    "new_dictionary.keys()"
   ]
  },
  {
   "cell_type": "code",
   "execution_count": 37,
   "id": "d4e95643",
   "metadata": {},
   "outputs": [
    {
     "data": {
      "text/plain": [
       "dict_items([('one', 1), ('two', 2), ('three', 3)])"
      ]
     },
     "execution_count": 37,
     "metadata": {},
     "output_type": "execute_result"
    }
   ],
   "source": [
    "# The items() method returns the key-value pairs of the dictionary as a list of tuples.\n",
    "new_dictionary.items()"
   ]
  }
 ],
 "metadata": {
  "kernelspec": {
   "display_name": "Python 3 (ipykernel)",
   "language": "python",
   "name": "python3"
  },
  "language_info": {
   "codemirror_mode": {
    "name": "ipython",
    "version": 3
   },
   "file_extension": ".py",
   "mimetype": "text/x-python",
   "name": "python",
   "nbconvert_exporter": "python",
   "pygments_lexer": "ipython3",
   "version": "3.11.5"
  }
 },
 "nbformat": 4,
 "nbformat_minor": 5
}
