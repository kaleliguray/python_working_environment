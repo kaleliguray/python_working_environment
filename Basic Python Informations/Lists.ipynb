{
 "cells": [
  {
   "cell_type": "markdown",
   "id": "3f45d833",
   "metadata": {},
   "source": [
    "# Lists\n",
    "Now let's try to learn lists, which is our new data type. Lists are very similar to strings in their structure and are a very useful data type where they are used. Just like strings, they are indexed, fragmented, and there are methods that we can perform different operations on. However, lists have important differences from strings. As far as we know about strings, strings are an immutable data type. However, our lists are a mutable datatype.\n",
    "\n",
    "We can store elements of any data type in a list. In this sense, it is similar to an ordered array. So what do we learn about this?\n",
    "\n",
    " 1.Creating a list\n",
    " 2.Indexing and Sharding\n",
    " 3.Basic List Methods and Operations\n",
    " 4.Nested Lists\n",
    "\n",
    "## Creating a List\n",
    "\n",
    "Lists can be created by enclosing data or values ​​within a [] square bracket."
   ]
  },
  {
   "cell_type": "code",
   "execution_count": 1,
   "id": "30206373",
   "metadata": {},
   "outputs": [
    {
     "data": {
      "text/plain": [
       "[3, 4, 5, 6, 'Apple', 3.14, 5.324]"
      ]
     },
     "execution_count": 1,
     "metadata": {},
     "output_type": "execute_result"
    }
   ],
   "source": [
    "liste =  [3,4,5,6,\"Apple\",3.14,5.324]\n",
    "liste"
   ]
  },
  {
   "cell_type": "code",
   "execution_count": 2,
   "id": "3c2aed0d",
   "metadata": {},
   "outputs": [
    {
     "data": {
      "text/plain": [
       "[3, 4, 5, 6, 7, 8, 9]"
      ]
     },
     "execution_count": 2,
     "metadata": {},
     "output_type": "execute_result"
    }
   ],
   "source": [
    "liste2 = [3,4,5,6,7,8,9]\n",
    "liste2"
   ]
  },
  {
   "cell_type": "code",
   "execution_count": 3,
   "id": "3f7b74fa",
   "metadata": {},
   "outputs": [
    {
     "data": {
      "text/plain": [
       "[]"
      ]
     },
     "execution_count": 3,
     "metadata": {},
     "output_type": "execute_result"
    }
   ],
   "source": [
    "empty_list = []\n",
    "empty_list"
   ]
  },
  {
   "cell_type": "code",
   "execution_count": 4,
   "id": "2ae68ae0",
   "metadata": {},
   "outputs": [
    {
     "data": {
      "text/plain": [
       "11"
      ]
     },
     "execution_count": 4,
     "metadata": {},
     "output_type": "execute_result"
    }
   ],
   "source": [
    "liste3 = [3,4,5,6,6,7,8,9,0,0,0]\n",
    "len(liste3)"
   ]
  },
  {
   "cell_type": "markdown",
   "id": "182bfb3b",
   "metadata": {},
   "source": [
    "A string can be converted to a list with the help of the list() function."
   ]
  },
  {
   "cell_type": "code",
   "execution_count": 6,
   "id": "f51178ab",
   "metadata": {},
   "outputs": [
    {
     "data": {
      "text/plain": [
       "['H', 'e', 'l', 'l', 'o']"
      ]
     },
     "execution_count": 6,
     "metadata": {},
     "output_type": "execute_result"
    }
   ],
   "source": [
    "s = \"Hello\"\n",
    "list_s = list(s)\n",
    "list_s"
   ]
  },
  {
   "cell_type": "markdown",
   "id": "aa6087fb",
   "metadata": {},
   "source": [
    "## Indexing and Sharding Lists\n",
    "\n",
    "Indexing and partitioning lists is exactly the same as strings."
   ]
  },
  {
   "cell_type": "code",
   "execution_count": 25,
   "id": "54bbb988",
   "metadata": {},
   "outputs": [
    {
     "data": {
      "text/plain": [
       "[3, 4, 5, 6, 7, 8, 9, 10]"
      ]
     },
     "execution_count": 25,
     "metadata": {},
     "output_type": "execute_result"
    }
   ],
   "source": [
    "liste = [3,4,5,6,7,8,9,10]\n",
    "liste"
   ]
  },
  {
   "cell_type": "code",
   "execution_count": 26,
   "id": "c35c5550",
   "metadata": {},
   "outputs": [
    {
     "data": {
      "text/plain": [
       "3"
      ]
     },
     "execution_count": 26,
     "metadata": {},
     "output_type": "execute_result"
    }
   ],
   "source": [
    "liste[0]"
   ]
  },
  {
   "cell_type": "code",
   "execution_count": 27,
   "id": "c5c6ec6f",
   "metadata": {},
   "outputs": [
    {
     "data": {
      "text/plain": [
       "7"
      ]
     },
     "execution_count": 27,
     "metadata": {},
     "output_type": "execute_result"
    }
   ],
   "source": [
    "liste[4]"
   ]
  },
  {
   "cell_type": "code",
   "execution_count": 28,
   "id": "a82856e5",
   "metadata": {},
   "outputs": [
    {
     "data": {
      "text/plain": [
       "8"
      ]
     },
     "execution_count": 28,
     "metadata": {},
     "output_type": "execute_result"
    }
   ],
   "source": [
    "len(liste)"
   ]
  },
  {
   "cell_type": "code",
   "execution_count": 31,
   "id": "fa30cc57",
   "metadata": {},
   "outputs": [
    {
     "data": {
      "text/plain": [
       "10"
      ]
     },
     "execution_count": 31,
     "metadata": {},
     "output_type": "execute_result"
    }
   ],
   "source": [
    "liste[7]"
   ]
  },
  {
   "cell_type": "code",
   "execution_count": 32,
   "id": "5dc02068",
   "metadata": {},
   "outputs": [
    {
     "data": {
      "text/plain": [
       "10"
      ]
     },
     "execution_count": 32,
     "metadata": {},
     "output_type": "execute_result"
    }
   ],
   "source": [
    "liste[-1]"
   ]
  },
  {
   "cell_type": "code",
   "execution_count": 20,
   "id": "f226cf3f",
   "metadata": {},
   "outputs": [
    {
     "data": {
      "text/plain": [
       "10"
      ]
     },
     "execution_count": 20,
     "metadata": {},
     "output_type": "execute_result"
    }
   ],
   "source": [
    "liste[len(liste)-1]"
   ]
  },
  {
   "cell_type": "code",
   "execution_count": 33,
   "id": "3e154bfc",
   "metadata": {},
   "outputs": [
    {
     "data": {
      "text/plain": [
       "3"
      ]
     },
     "execution_count": 33,
     "metadata": {},
     "output_type": "execute_result"
    }
   ],
   "source": [
    "liste[-len(liste)]"
   ]
  },
  {
   "cell_type": "code",
   "execution_count": 34,
   "id": "31d69bfa",
   "metadata": {},
   "outputs": [
    {
     "data": {
      "text/plain": [
       "[3, 4, 5, 6]"
      ]
     },
     "execution_count": 34,
     "metadata": {},
     "output_type": "execute_result"
    }
   ],
   "source": [
    "liste[:4]"
   ]
  },
  {
   "cell_type": "code",
   "execution_count": 35,
   "id": "a273ef01",
   "metadata": {},
   "outputs": [
    {
     "data": {
      "text/plain": [
       "[4, 5, 6, 7]"
      ]
     },
     "execution_count": 35,
     "metadata": {},
     "output_type": "execute_result"
    }
   ],
   "source": [
    "liste[1:5]"
   ]
  },
  {
   "cell_type": "code",
   "execution_count": 36,
   "id": "65a8fd6a",
   "metadata": {},
   "outputs": [
    {
     "data": {
      "text/plain": [
       "[8, 9, 10]"
      ]
     },
     "execution_count": 36,
     "metadata": {},
     "output_type": "execute_result"
    }
   ],
   "source": [
    "liste[5:]"
   ]
  },
  {
   "cell_type": "code",
   "execution_count": 37,
   "id": "89296056",
   "metadata": {},
   "outputs": [
    {
     "data": {
      "text/plain": [
       "[3, 5, 7, 9]"
      ]
     },
     "execution_count": 37,
     "metadata": {},
     "output_type": "execute_result"
    }
   ],
   "source": [
    "liste[::2]"
   ]
  },
  {
   "cell_type": "code",
   "execution_count": 38,
   "id": "c9435c9d",
   "metadata": {},
   "outputs": [
    {
     "data": {
      "text/plain": [
       "[10, 9, 8, 7, 6, 5, 4, 3]"
      ]
     },
     "execution_count": 38,
     "metadata": {},
     "output_type": "execute_result"
    }
   ],
   "source": [
    "liste[::-1]"
   ]
  },
  {
   "cell_type": "markdown",
   "id": "5b65fe50",
   "metadata": {},
   "source": [
    "## Basic List Methods and Operations\n",
    "\n",
    "In this section, we will learn the basic operations we can perform on lists and some basic methods. We will see many more methods of lists later in the course.\n",
    "\n",
    "We can add a list together just like strings."
   ]
  },
  {
   "cell_type": "code",
   "execution_count": 48,
   "id": "fb09d5ad",
   "metadata": {},
   "outputs": [
    {
     "data": {
      "text/plain": [
       "[1, 2, 3, 4, 5, 6, 7, 8, 9, 10]"
      ]
     },
     "execution_count": 48,
     "metadata": {},
     "output_type": "execute_result"
    }
   ],
   "source": [
    "liste1 =  [1,2,3,4,5]\n",
    "liste2 =  [6,7,8,9,10]\n",
    "liste1 + liste2"
   ]
  },
  {
   "cell_type": "markdown",
   "id": "101a6801",
   "metadata": {},
   "source": [
    "To add an element to a list, we can follow the procedure below."
   ]
  },
  {
   "cell_type": "code",
   "execution_count": 49,
   "id": "6466e081",
   "metadata": {},
   "outputs": [
    {
     "data": {
      "text/plain": [
       "[1, 2, 3, 4, 'John']"
      ]
     },
     "execution_count": 49,
     "metadata": {},
     "output_type": "execute_result"
    }
   ],
   "source": [
    "liste = [1,2,3,4]\n",
    "liste =  liste + [\"John\"]\n",
    "liste"
   ]
  },
  {
   "cell_type": "code",
   "execution_count": 50,
   "id": "4d25f647",
   "metadata": {},
   "outputs": [
    {
     "data": {
      "text/plain": [
       "[10, 2, 3, 4, 'John']"
      ]
     },
     "execution_count": 50,
     "metadata": {},
     "output_type": "execute_result"
    }
   ],
   "source": [
    "liste[0] = 10\n",
    "liste"
   ]
  },
  {
   "cell_type": "code",
   "execution_count": 51,
   "id": "7bccdcd4",
   "metadata": {},
   "outputs": [
    {
     "data": {
      "text/plain": [
       "[40, 50, 3, 4, 'John']"
      ]
     },
     "execution_count": 51,
     "metadata": {},
     "output_type": "execute_result"
    }
   ],
   "source": [
    "liste[:2] = [40,50]\n",
    "liste"
   ]
  },
  {
   "cell_type": "code",
   "execution_count": 52,
   "id": "5191b990",
   "metadata": {},
   "outputs": [
    {
     "data": {
      "text/plain": [
       "[1, 2, 3, 4, 5, 1, 2, 3, 4, 5, 1, 2, 3, 4, 5]"
      ]
     },
     "execution_count": 52,
     "metadata": {},
     "output_type": "execute_result"
    }
   ],
   "source": [
    "liste = [1,2,3,4,5]\n",
    "liste * 3"
   ]
  },
  {
   "cell_type": "code",
   "execution_count": 53,
   "id": "17fe23da",
   "metadata": {},
   "outputs": [
    {
     "data": {
      "text/plain": [
       "[1, 2, 3, 4, 5]"
      ]
     },
     "execution_count": 53,
     "metadata": {},
     "output_type": "execute_result"
    }
   ],
   "source": [
    "liste"
   ]
  },
  {
   "cell_type": "code",
   "execution_count": 54,
   "id": "bedf470c",
   "metadata": {},
   "outputs": [
    {
     "data": {
      "text/plain": [
       "[1, 2, 3, 4, 5, 1, 2, 3, 4, 5, 1, 2, 3, 4, 5]"
      ]
     },
     "execution_count": 54,
     "metadata": {},
     "output_type": "execute_result"
    }
   ],
   "source": [
    "liste = [1,2,3,4,5]\n",
    "liste = liste * 3\n",
    "liste"
   ]
  },
  {
   "cell_type": "markdown",
   "id": "be6b2419",
   "metadata": {},
   "source": [
    "Now let's look at some basic list methods. Lists are quite flexible compared to arrays in other programming languages. They do not have a specific size and adding and subtracting is very easy.\n",
    "\n",
    "### append method\n",
    "\n",
    "The append method allows us to add the given value to the list."
   ]
  },
  {
   "cell_type": "code",
   "execution_count": 58,
   "id": "0282c32d",
   "metadata": {},
   "outputs": [
    {
     "data": {
      "text/plain": [
       "[3, 4, 5, 6, 7]"
      ]
     },
     "execution_count": 58,
     "metadata": {},
     "output_type": "execute_result"
    }
   ],
   "source": [
    "liste = [3,4,5,6]\n",
    "liste.append(7)\n",
    "liste"
   ]
  },
  {
   "cell_type": "code",
   "execution_count": 59,
   "id": "7eb193b0",
   "metadata": {},
   "outputs": [
    {
     "data": {
      "text/plain": [
       "[3, 4, 5, 6, 7, 'Michael']"
      ]
     },
     "execution_count": 59,
     "metadata": {},
     "output_type": "execute_result"
    }
   ],
   "source": [
    "liste.append(\"Michael\")\n",
    "liste"
   ]
  },
  {
   "cell_type": "markdown",
   "id": "61a472ec",
   "metadata": {},
   "source": [
    "### pop method\n",
    "\n",
    "This method discards the element at the last index of the list if we do not give a value to it, if we do so, it discards the element at the index corresponding to the value we give, from the list and prints the discarded element on the screen."
   ]
  },
  {
   "cell_type": "code",
   "execution_count": 67,
   "id": "2b9c0228",
   "metadata": {},
   "outputs": [
    {
     "data": {
      "text/plain": [
       "5"
      ]
     },
     "execution_count": 67,
     "metadata": {},
     "output_type": "execute_result"
    }
   ],
   "source": [
    "liste = [1,2,3,4,5]\n",
    "liste.pop()"
   ]
  },
  {
   "cell_type": "code",
   "execution_count": 68,
   "id": "794bbdc2",
   "metadata": {},
   "outputs": [
    {
     "data": {
      "text/plain": [
       "[1, 2, 3, 4]"
      ]
     },
     "execution_count": 68,
     "metadata": {},
     "output_type": "execute_result"
    }
   ],
   "source": [
    "liste"
   ]
  },
  {
   "cell_type": "code",
   "execution_count": 69,
   "id": "f20953be",
   "metadata": {},
   "outputs": [
    {
     "data": {
      "text/plain": [
       "3"
      ]
     },
     "execution_count": 69,
     "metadata": {},
     "output_type": "execute_result"
    }
   ],
   "source": [
    "eleman = liste.pop(2)\n",
    "eleman"
   ]
  },
  {
   "cell_type": "code",
   "execution_count": 70,
   "id": "29e9e0f6",
   "metadata": {},
   "outputs": [
    {
     "data": {
      "text/plain": [
       "[1, 2, 4]"
      ]
     },
     "execution_count": 70,
     "metadata": {},
     "output_type": "execute_result"
    }
   ],
   "source": [
    "liste"
   ]
  },
  {
   "cell_type": "code",
   "execution_count": 71,
   "id": "6c137d36",
   "metadata": {},
   "outputs": [
    {
     "data": {
      "text/plain": [
       "[1, 2, 4, 'Smith']"
      ]
     },
     "execution_count": 71,
     "metadata": {},
     "output_type": "execute_result"
    }
   ],
   "source": [
    "liste.append(\"Smith\")\n",
    "liste"
   ]
  },
  {
   "cell_type": "code",
   "execution_count": 72,
   "id": "ac8dd679",
   "metadata": {},
   "outputs": [
    {
     "data": {
      "text/plain": [
       "'Smith'"
      ]
     },
     "execution_count": 72,
     "metadata": {},
     "output_type": "execute_result"
    }
   ],
   "source": [
    "liste.pop()"
   ]
  },
  {
   "cell_type": "code",
   "execution_count": 73,
   "id": "d6a61b8c",
   "metadata": {},
   "outputs": [
    {
     "data": {
      "text/plain": [
       "[1, 2, 4]"
      ]
     },
     "execution_count": 73,
     "metadata": {},
     "output_type": "execute_result"
    }
   ],
   "source": [
    "liste"
   ]
  },
  {
   "cell_type": "markdown",
   "id": "b5168128",
   "metadata": {},
   "source": [
    "Actually, it would be useful to say it while the time has come. If we give an index that does not exist while accessing the list elements, Python will give us an error."
   ]
  },
  {
   "cell_type": "code",
   "execution_count": 75,
   "id": "3efd6b21",
   "metadata": {},
   "outputs": [
    {
     "ename": "IndexError",
     "evalue": "list index out of range",
     "output_type": "error",
     "traceback": [
      "\u001b[0;31m---------------------------------------------------------------------------\u001b[0m",
      "\u001b[0;31mIndexError\u001b[0m                                Traceback (most recent call last)",
      "Cell \u001b[0;32mIn[75], line 2\u001b[0m\n\u001b[1;32m      1\u001b[0m liste \u001b[38;5;241m=\u001b[39m [\u001b[38;5;241m12\u001b[39m,\u001b[38;5;241m54\u001b[39m,\u001b[38;5;241m67\u001b[39m,\u001b[38;5;241m67\u001b[39m]\n\u001b[0;32m----> 2\u001b[0m liste[\u001b[38;5;241m50\u001b[39m]\n",
      "\u001b[0;31mIndexError\u001b[0m: list index out of range"
     ]
    }
   ],
   "source": [
    "liste = [12,54,67,67]\n",
    "liste[50]"
   ]
  },
  {
   "cell_type": "markdown",
   "id": "c3c64d52",
   "metadata": {},
   "source": [
    "### sort method\n",
    "\n",
    "The sort method allows us to sort the elements of the list. Let's look at its usage now."
   ]
  },
  {
   "cell_type": "code",
   "execution_count": 77,
   "id": "638c2561",
   "metadata": {},
   "outputs": [
    {
     "data": {
      "text/plain": [
       "[1, 2, 3, 19, 23, 34, 56, 334]"
      ]
     },
     "execution_count": 77,
     "metadata": {},
     "output_type": "execute_result"
    }
   ],
   "source": [
    "liste = [34,1,56,334,23,2,3,19]\n",
    "liste.sort() # ascending order\n",
    "liste"
   ]
  },
  {
   "cell_type": "code",
   "execution_count": 78,
   "id": "e72f3cff",
   "metadata": {},
   "outputs": [
    {
     "data": {
      "text/plain": [
       "[334, 56, 34, 23, 19, 3, 2, 1]"
      ]
     },
     "execution_count": 78,
     "metadata": {},
     "output_type": "execute_result"
    }
   ],
   "source": [
    "liste.sort(reverse = True) # descending order\n",
    "liste"
   ]
  },
  {
   "cell_type": "code",
   "execution_count": 79,
   "id": "cad4b995",
   "metadata": {},
   "outputs": [
    {
     "data": {
      "text/plain": [
       "['C++', 'Java', 'PHP', 'Python']"
      ]
     },
     "execution_count": 79,
     "metadata": {},
     "output_type": "execute_result"
    }
   ],
   "source": [
    "liste = [\"Java\",\"C++\",\"Python\",\"PHP\"]\n",
    "liste.sort()\n",
    "liste"
   ]
  },
  {
   "cell_type": "code",
   "execution_count": 80,
   "id": "7d8d624d",
   "metadata": {},
   "outputs": [
    {
     "data": {
      "text/plain": [
       "['Python', 'PHP', 'Java', 'C++']"
      ]
     },
     "execution_count": 80,
     "metadata": {},
     "output_type": "execute_result"
    }
   ],
   "source": [
    "liste.sort(reverse = True)\n",
    "liste"
   ]
  },
  {
   "cell_type": "markdown",
   "id": "41d8d6b7",
   "metadata": {},
   "source": [
    "## Nested Lists\n",
    "\n",
    "It is possible to contain another list inside a list. These are called nested lists in Python. This type of feature is very useful in tree structures or matrix structures in Python."
   ]
  },
  {
   "cell_type": "code",
   "execution_count": 82,
   "id": "e6783421",
   "metadata": {},
   "outputs": [
    {
     "data": {
      "text/plain": [
       "[[1, 2, 3], [4, 5, 6], [7, 8, 9]]"
      ]
     },
     "execution_count": 82,
     "metadata": {},
     "output_type": "execute_result"
    }
   ],
   "source": [
    "liste1 = [1,2,3]\n",
    "liste2 = [4,5,6]\n",
    "liste3 = [7,8,9]\n",
    "\n",
    "new_liste = [liste1,liste2,liste3]\n",
    "new_liste"
   ]
  },
  {
   "cell_type": "markdown",
   "id": "cfe37b89",
   "metadata": {},
   "source": [
    "Now, let's see how to reach the first element of the 2nd list."
   ]
  },
  {
   "cell_type": "code",
   "execution_count": 84,
   "id": "365f518f",
   "metadata": {},
   "outputs": [
    {
     "data": {
      "text/plain": [
       "4"
      ]
     },
     "execution_count": 84,
     "metadata": {},
     "output_type": "execute_result"
    }
   ],
   "source": [
    "new_liste[1][0]"
   ]
  },
  {
   "cell_type": "code",
   "execution_count": null,
   "id": "885756b8",
   "metadata": {},
   "outputs": [],
   "source": []
  }
 ],
 "metadata": {
  "kernelspec": {
   "display_name": "Python 3 (ipykernel)",
   "language": "python",
   "name": "python3"
  },
  "language_info": {
   "codemirror_mode": {
    "name": "ipython",
    "version": 3
   },
   "file_extension": ".py",
   "mimetype": "text/x-python",
   "name": "python",
   "nbconvert_exporter": "python",
   "pygments_lexer": "ipython3",
   "version": "3.11.5"
  }
 },
 "nbformat": 4,
 "nbformat_minor": 5
}
