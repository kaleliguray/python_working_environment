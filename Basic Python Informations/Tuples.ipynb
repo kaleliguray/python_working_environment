{
 "cells": [
  {
   "cell_type": "markdown",
   "id": "bb3ace4c",
   "metadata": {},
   "source": [
    "# Tuples\n",
    "\n",
    "Tuples, or tuples in English, are quite similar to lists, but the key difference is that tuples are immutable. Therefore, we can store values in a tuple that we do not want to be changed in our programs. Let's start with creating tuples in our topic."
   ]
  },
  {
   "cell_type": "code",
   "execution_count": 4,
   "id": "2cb4e15a",
   "metadata": {},
   "outputs": [
    {
     "data": {
      "text/plain": [
       "(1, 2, 3, 4, 5, 6, 7, 8, 9)"
      ]
     },
     "execution_count": 4,
     "metadata": {},
     "output_type": "execute_result"
    }
   ],
   "source": [
    "# Tuples can be created by enclosing the elements in parentheses.\n",
    "tuple = (1, 2, 3, 4, 5, 6, 7, 8, 9)\n",
    "tuple\n"
   ]
  },
  {
   "cell_type": "code",
   "execution_count": 6,
   "id": "fd6fe81f",
   "metadata": {},
   "outputs": [
    {
     "data": {
      "text/plain": [
       "tuple"
      ]
     },
     "execution_count": 6,
     "metadata": {},
     "output_type": "execute_result"
    }
   ],
   "source": [
    "# Let's learn its type using the type() function.\n",
    "type(tuple)"
   ]
  },
  {
   "cell_type": "markdown",
   "id": "2b43b1ae",
   "metadata": {},
   "source": [
    "So how can we define a tuple with a single element?"
   ]
  },
  {
   "cell_type": "code",
   "execution_count": 8,
   "id": "91883e70",
   "metadata": {},
   "outputs": [
    {
     "data": {
      "text/plain": [
       "(1,)"
      ]
     },
     "execution_count": 8,
     "metadata": {},
     "output_type": "execute_result"
    }
   ],
   "source": [
    "# A tuple with a single element can be defined like this.\n",
    "tuple = (1,)\n",
    "tuple\n",
    "(1,)"
   ]
  },
  {
   "cell_type": "code",
   "execution_count": 10,
   "id": "12d34e14",
   "metadata": {},
   "outputs": [
    {
     "data": {
      "text/plain": [
       "tuple"
      ]
     },
     "execution_count": 10,
     "metadata": {},
     "output_type": "execute_result"
    }
   ],
   "source": [
    "type(tuple)"
   ]
  },
  {
   "cell_type": "code",
   "execution_count": 11,
   "id": "6b05abe6",
   "metadata": {},
   "outputs": [
    {
     "data": {
      "text/plain": [
       "1"
      ]
     },
     "execution_count": 11,
     "metadata": {},
     "output_type": "execute_result"
    }
   ],
   "source": [
    "tuple = (1, 2, 3, 4, 5, 6, 7)\n",
    "# Accessing the 0th index\n",
    "tuple[0]"
   ]
  },
  {
   "cell_type": "code",
   "execution_count": 12,
   "id": "9cdef066",
   "metadata": {},
   "outputs": [
    {
     "data": {
      "text/plain": [
       "5"
      ]
     },
     "execution_count": 12,
     "metadata": {},
     "output_type": "execute_result"
    }
   ],
   "source": [
    "# Accessing the 4th index\n",
    "tuple[4]"
   ]
  },
  {
   "cell_type": "code",
   "execution_count": 13,
   "id": "c0797503",
   "metadata": {},
   "outputs": [
    {
     "data": {
      "text/plain": [
       "7"
      ]
     },
     "execution_count": 13,
     "metadata": {},
     "output_type": "execute_result"
    }
   ],
   "source": [
    "tuple[-1]"
   ]
  },
  {
   "cell_type": "code",
   "execution_count": 15,
   "id": "a092b068",
   "metadata": {},
   "outputs": [
    {
     "data": {
      "text/plain": [
       "(3, 4, 5, 6, 7)"
      ]
     },
     "execution_count": 15,
     "metadata": {},
     "output_type": "execute_result"
    }
   ],
   "source": [
    "tuple[2:]"
   ]
  },
  {
   "cell_type": "markdown",
   "id": "ff5539e5",
   "metadata": {},
   "source": [
    "## Basic Methods of Tuples\n",
    "\n",
    "With the index method, we can find at which index the element we give is located."
   ]
  },
  {
   "cell_type": "code",
   "execution_count": 21,
   "id": "da95d620",
   "metadata": {},
   "outputs": [
    {
     "data": {
      "text/plain": [
       "(1, 2, 3, 'Python', 'Programming', 'Language')"
      ]
     },
     "execution_count": 21,
     "metadata": {},
     "output_type": "execute_result"
    }
   ],
   "source": [
    "# Let's create a tuple.\n",
    "tuple = (1, 2, 3, \"Python\", \"Programming\", \"Language\")\n",
    "tuple"
   ]
  },
  {
   "cell_type": "code",
   "execution_count": 22,
   "id": "d3f5d0a7",
   "metadata": {},
   "outputs": [
    {
     "data": {
      "text/plain": [
       "3"
      ]
     },
     "execution_count": 22,
     "metadata": {},
     "output_type": "execute_result"
    }
   ],
   "source": [
    "# Finding the index of \"Mustafa\" element.\n",
    "tuple.index(\"Python\")"
   ]
  },
  {
   "cell_type": "code",
   "execution_count": 23,
   "id": "ccf5d207",
   "metadata": {},
   "outputs": [
    {
     "data": {
      "text/plain": [
       "0"
      ]
     },
     "execution_count": 23,
     "metadata": {},
     "output_type": "execute_result"
    }
   ],
   "source": [
    "tuple.index(1)"
   ]
  },
  {
   "cell_type": "code",
   "execution_count": 24,
   "id": "a1ae4844",
   "metadata": {},
   "outputs": [
    {
     "data": {
      "text/plain": [
       "5"
      ]
     },
     "execution_count": 24,
     "metadata": {},
     "output_type": "execute_result"
    }
   ],
   "source": [
    "tuple.index(\"Language\")"
   ]
  },
  {
   "cell_type": "markdown",
   "id": "42c3b0a4",
   "metadata": {},
   "source": [
    "Using the count method, we can find how many times the value we give appears in the tuple."
   ]
  },
  {
   "cell_type": "code",
   "execution_count": 28,
   "id": "1f78dd83",
   "metadata": {},
   "outputs": [
    {
     "data": {
      "text/plain": [
       "(1, 23, 34, 34, 2, 1, 4, 5, 1, 1, 34)"
      ]
     },
     "execution_count": 28,
     "metadata": {},
     "output_type": "execute_result"
    }
   ],
   "source": [
    "tuple = (1, 23, 34, 34, 2, 1, 4, 5, 1, 1, 34)\n",
    "tuple"
   ]
  },
  {
   "cell_type": "code",
   "execution_count": 29,
   "id": "aafd7147",
   "metadata": {},
   "outputs": [
    {
     "data": {
      "text/plain": [
       "4"
      ]
     },
     "execution_count": 29,
     "metadata": {},
     "output_type": "execute_result"
    }
   ],
   "source": [
    "tuple.count(1)"
   ]
  },
  {
   "cell_type": "code",
   "execution_count": 30,
   "id": "25283e51",
   "metadata": {},
   "outputs": [
    {
     "data": {
      "text/plain": [
       "3"
      ]
     },
     "execution_count": 30,
     "metadata": {},
     "output_type": "execute_result"
    }
   ],
   "source": [
    "tuple.count(34)"
   ]
  },
  {
   "cell_type": "markdown",
   "id": "f2329180",
   "metadata": {},
   "source": [
    "### Immutability Feature\n",
    "\n",
    "We now know that tuples are immutable. Let's make a trial."
   ]
  },
  {
   "cell_type": "code",
   "execution_count": 32,
   "id": "f93ab257",
   "metadata": {},
   "outputs": [
    {
     "data": {
      "text/plain": [
       "('Apple', 'Pear', 'Banana')"
      ]
     },
     "execution_count": 32,
     "metadata": {},
     "output_type": "execute_result"
    }
   ],
   "source": [
    "# Let's create a tuple.\n",
    "tuple = (\"Apple\", \"Pear\", \"Banana\")\n",
    "tuple"
   ]
  },
  {
   "cell_type": "code",
   "execution_count": 33,
   "id": "b961ea47",
   "metadata": {},
   "outputs": [
    {
     "ename": "TypeError",
     "evalue": "'tuple' object does not support item assignment",
     "output_type": "error",
     "traceback": [
      "\u001b[0;31m---------------------------------------------------------------------------\u001b[0m",
      "\u001b[0;31mTypeError\u001b[0m                                 Traceback (most recent call last)",
      "Cell \u001b[0;32mIn[33], line 1\u001b[0m\n\u001b[0;32m----> 1\u001b[0m \u001b[38;5;28mtuple\u001b[39m[\u001b[38;5;241m0\u001b[39m] \u001b[38;5;241m=\u001b[39m \u001b[38;5;124m\"\u001b[39m\u001b[38;5;124mCherry\u001b[39m\u001b[38;5;124m\"\u001b[39m\n",
      "\u001b[0;31mTypeError\u001b[0m: 'tuple' object does not support item assignment"
     ]
    }
   ],
   "source": [
    "tuple[0] = \"Cherry\""
   ]
  },
  {
   "cell_type": "markdown",
   "id": "e6e37699",
   "metadata": {},
   "source": [
    "#### When to Use Tuples?\n",
    "\n",
    "Actually, Python programmers use lists more than tuples. However, if there is information in your program that you do not want to be changed (such as constants in Android applications), you can store them in a tuple. Also, since they are Read-Only data types, they work a little faster than lists."
   ]
  },
  {
   "cell_type": "code",
   "execution_count": null,
   "id": "1edcab1e",
   "metadata": {},
   "outputs": [],
   "source": []
  },
  {
   "cell_type": "code",
   "execution_count": null,
   "id": "9ee418eb",
   "metadata": {},
   "outputs": [],
   "source": []
  },
  {
   "cell_type": "code",
   "execution_count": null,
   "id": "3f75d217",
   "metadata": {},
   "outputs": [],
   "source": []
  }
 ],
 "metadata": {
  "kernelspec": {
   "display_name": "Python 3 (ipykernel)",
   "language": "python",
   "name": "python3"
  },
  "language_info": {
   "codemirror_mode": {
    "name": "ipython",
    "version": 3
   },
   "file_extension": ".py",
   "mimetype": "text/x-python",
   "name": "python",
   "nbconvert_exporter": "python",
   "pygments_lexer": "ipython3",
   "version": "3.11.5"
  }
 },
 "nbformat": 4,
 "nbformat_minor": 5
}
