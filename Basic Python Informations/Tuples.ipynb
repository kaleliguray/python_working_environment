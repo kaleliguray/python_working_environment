{
 "cells": [
  {
   "cell_type": "markdown",
   "id": "ee398793",
   "metadata": {},
   "source": [
    "# Tuples\n",
    "\n",
    "Tuples, or tuples in English, are quite similar to lists, but the key difference is that tuples are immutable. Therefore, we can store values in a tuple that we do not want to be changed in our programs. Let's start with creating tuples in our topic."
   ]
  },
  {
   "cell_type": "code",
   "execution_count": 4,
   "id": "cac195af",
   "metadata": {},
   "outputs": [
    {
     "data": {
      "text/plain": [
       "(1, 2, 3, 4, 5, 6, 7, 8, 9)"
      ]
     },
     "execution_count": 4,
     "metadata": {},
     "output_type": "execute_result"
    }
   ],
   "source": [
    "# Tuples can be created by enclosing the elements in parentheses.\n",
    "tuple = (1, 2, 3, 4, 5, 6, 7, 8, 9)\n",
    "tuple\n"
   ]
  },
  {
   "cell_type": "code",
   "execution_count": 6,
   "id": "3df53e46",
   "metadata": {},
   "outputs": [
    {
     "data": {
      "text/plain": [
       "tuple"
      ]
     },
     "execution_count": 6,
     "metadata": {},
     "output_type": "execute_result"
    }
   ],
   "source": [
    "# Let's learn its type using the type() function.\n",
    "type(tuple)"
   ]
  },
  {
   "cell_type": "markdown",
   "id": "796cd89d",
   "metadata": {},
   "source": [
    "So how can we define a tuple with a single element?"
   ]
  },
  {
   "cell_type": "code",
   "execution_count": 34,
   "id": "68d2f333",
   "metadata": {},
   "outputs": [
    {
     "data": {
      "text/plain": [
       "(1,)"
      ]
     },
     "execution_count": 34,
     "metadata": {},
     "output_type": "execute_result"
    }
   ],
   "source": [
    "# A tuple with a single element can be defined like this.\n",
    "tuple = (1,)\n",
    "tuple"
   ]
  },
  {
   "cell_type": "code",
   "execution_count": 10,
   "id": "3e7c66ab",
   "metadata": {},
   "outputs": [
    {
     "data": {
      "text/plain": [
       "tuple"
      ]
     },
     "execution_count": 10,
     "metadata": {},
     "output_type": "execute_result"
    }
   ],
   "source": [
    "type(tuple)"
   ]
  },
  {
   "cell_type": "code",
   "execution_count": 11,
   "id": "8f4e1249",
   "metadata": {},
   "outputs": [
    {
     "data": {
      "text/plain": [
       "1"
      ]
     },
     "execution_count": 11,
     "metadata": {},
     "output_type": "execute_result"
    }
   ],
   "source": [
    "tuple = (1, 2, 3, 4, 5, 6, 7)\n",
    "# Accessing the 0th index\n",
    "tuple[0]"
   ]
  },
  {
   "cell_type": "code",
   "execution_count": 12,
   "id": "ff35bb24",
   "metadata": {},
   "outputs": [
    {
     "data": {
      "text/plain": [
       "5"
      ]
     },
     "execution_count": 12,
     "metadata": {},
     "output_type": "execute_result"
    }
   ],
   "source": [
    "# Accessing the 4th index\n",
    "tuple[4]"
   ]
  },
  {
   "cell_type": "code",
   "execution_count": 13,
   "id": "6fc17485",
   "metadata": {},
   "outputs": [
    {
     "data": {
      "text/plain": [
       "7"
      ]
     },
     "execution_count": 13,
     "metadata": {},
     "output_type": "execute_result"
    }
   ],
   "source": [
    "tuple[-1]"
   ]
  },
  {
   "cell_type": "code",
   "execution_count": 15,
   "id": "2d69634d",
   "metadata": {},
   "outputs": [
    {
     "data": {
      "text/plain": [
       "(3, 4, 5, 6, 7)"
      ]
     },
     "execution_count": 15,
     "metadata": {},
     "output_type": "execute_result"
    }
   ],
   "source": [
    "tuple[2:]"
   ]
  },
  {
   "cell_type": "markdown",
   "id": "83ca5c0a",
   "metadata": {},
   "source": [
    "## Basic Methods of Tuples\n",
    "\n",
    "With the index method, we can find at which index the element we give is located."
   ]
  },
  {
   "cell_type": "code",
   "execution_count": 37,
   "id": "e3a60b6b",
   "metadata": {},
   "outputs": [
    {
     "data": {
      "text/plain": [
       "(1, 2, 3, 'Python', 'Programming', 'Language')"
      ]
     },
     "execution_count": 37,
     "metadata": {},
     "output_type": "execute_result"
    }
   ],
   "source": [
    "# Let's create a tuple.\n",
    "tuple = (1, 2, 3, \"Python\", \"Programming\", \"Language\")\n",
    "tuple"
   ]
  },
  {
   "cell_type": "code",
   "execution_count": 38,
   "id": "49b84ee8",
   "metadata": {},
   "outputs": [
    {
     "data": {
      "text/plain": [
       "3"
      ]
     },
     "execution_count": 38,
     "metadata": {},
     "output_type": "execute_result"
    }
   ],
   "source": [
    "# Finding the index of \"Python\" element.\n",
    "tuple.index(\"Python\")"
   ]
  },
  {
   "cell_type": "code",
   "execution_count": 39,
   "id": "6e97e404",
   "metadata": {},
   "outputs": [
    {
     "data": {
      "text/plain": [
       "0"
      ]
     },
     "execution_count": 39,
     "metadata": {},
     "output_type": "execute_result"
    }
   ],
   "source": [
    "tuple.index(1)"
   ]
  },
  {
   "cell_type": "code",
   "execution_count": 40,
   "id": "f8691fbe",
   "metadata": {},
   "outputs": [
    {
     "data": {
      "text/plain": [
       "5"
      ]
     },
     "execution_count": 40,
     "metadata": {},
     "output_type": "execute_result"
    }
   ],
   "source": [
    "tuple.index(\"Language\")"
   ]
  },
  {
   "cell_type": "markdown",
   "id": "a3d1d2bc",
   "metadata": {},
   "source": [
    "Using the count method, we can find how many times the value we give appears in the tuple."
   ]
  },
  {
   "cell_type": "code",
   "execution_count": 28,
   "id": "c464bd19",
   "metadata": {},
   "outputs": [
    {
     "data": {
      "text/plain": [
       "(1, 23, 34, 34, 2, 1, 4, 5, 1, 1, 34)"
      ]
     },
     "execution_count": 28,
     "metadata": {},
     "output_type": "execute_result"
    }
   ],
   "source": [
    "tuple = (1, 23, 34, 34, 2, 1, 4, 5, 1, 1, 34)\n",
    "tuple"
   ]
  },
  {
   "cell_type": "code",
   "execution_count": 29,
   "id": "31c2e55f",
   "metadata": {},
   "outputs": [
    {
     "data": {
      "text/plain": [
       "4"
      ]
     },
     "execution_count": 29,
     "metadata": {},
     "output_type": "execute_result"
    }
   ],
   "source": [
    "tuple.count(1)"
   ]
  },
  {
   "cell_type": "code",
   "execution_count": 30,
   "id": "46f56312",
   "metadata": {},
   "outputs": [
    {
     "data": {
      "text/plain": [
       "3"
      ]
     },
     "execution_count": 30,
     "metadata": {},
     "output_type": "execute_result"
    }
   ],
   "source": [
    "tuple.count(34)"
   ]
  },
  {
   "cell_type": "markdown",
   "id": "53ec0b09",
   "metadata": {},
   "source": [
    "### Immutability Feature\n",
    "\n",
    "We now know that tuples are immutable. Let's make a trial."
   ]
  },
  {
   "cell_type": "code",
   "execution_count": 32,
   "id": "da6e5b69",
   "metadata": {},
   "outputs": [
    {
     "data": {
      "text/plain": [
       "('Apple', 'Pear', 'Banana')"
      ]
     },
     "execution_count": 32,
     "metadata": {},
     "output_type": "execute_result"
    }
   ],
   "source": [
    "# Let's create a tuple.\n",
    "tuple = (\"Apple\", \"Pear\", \"Banana\")\n",
    "tuple"
   ]
  },
  {
   "cell_type": "code",
   "execution_count": 33,
   "id": "52ceac29",
   "metadata": {},
   "outputs": [
    {
     "ename": "TypeError",
     "evalue": "'tuple' object does not support item assignment",
     "output_type": "error",
     "traceback": [
      "\u001b[0;31m---------------------------------------------------------------------------\u001b[0m",
      "\u001b[0;31mTypeError\u001b[0m                                 Traceback (most recent call last)",
      "Cell \u001b[0;32mIn[33], line 1\u001b[0m\n\u001b[0;32m----> 1\u001b[0m \u001b[38;5;28mtuple\u001b[39m[\u001b[38;5;241m0\u001b[39m] \u001b[38;5;241m=\u001b[39m \u001b[38;5;124m\"\u001b[39m\u001b[38;5;124mCherry\u001b[39m\u001b[38;5;124m\"\u001b[39m\n",
      "\u001b[0;31mTypeError\u001b[0m: 'tuple' object does not support item assignment"
     ]
    }
   ],
   "source": [
    "tuple[0] = \"Cherry\""
   ]
  },
  {
   "cell_type": "markdown",
   "id": "6c32113f",
   "metadata": {},
   "source": [
    "#### When to Use Tuples?\n",
    "\n",
    "Actually, Python programmers use lists more than tuples. However, if there is information in your program that you do not want to be changed (such as constants in Android applications), you can store them in a tuple. Also, since they are Read-Only data types, they work a little faster than lists."
   ]
  }
 ],
 "metadata": {
  "kernelspec": {
   "display_name": "Python 3 (ipykernel)",
   "language": "python",
   "name": "python3"
  },
  "language_info": {
   "codemirror_mode": {
    "name": "ipython",
    "version": 3
   },
   "file_extension": ".py",
   "mimetype": "text/x-python",
   "name": "python",
   "nbconvert_exporter": "python",
   "pygments_lexer": "ipython3",
   "version": "3.11.5"
  }
 },
 "nbformat": 4,
 "nbformat_minor": 5
}
