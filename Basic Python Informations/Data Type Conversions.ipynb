{
 "cells": [
  {
   "cell_type": "markdown",
   "id": "e2e8579a",
   "metadata": {},
   "source": [
    "# Data Type Conversions\n",
    "\n",
    "In Python and many other programming languages, converting between data types is quite important. Sometimes converting a floating-point number to an integer, or even converting a string to an integer, is crucial when writing our programs. In this topic, we'll learn about such conversions.\n",
    "\n",
    "## Converting Integer to Float\n",
    "\n",
    "To convert an integer value to a floating-point number, we can use the float() function. Let's look at some examples."
   ]
  },
  {
   "cell_type": "code",
   "execution_count": 1,
   "id": "606bf294",
   "metadata": {},
   "outputs": [
    {
     "data": {
      "text/plain": [
       "78.0"
      ]
     },
     "execution_count": 1,
     "metadata": {},
     "output_type": "execute_result"
    }
   ],
   "source": [
    "a = 78\n",
    "float(a)"
   ]
  },
  {
   "cell_type": "code",
   "execution_count": 2,
   "id": "da4ba1fb",
   "metadata": {},
   "outputs": [
    {
     "data": {
      "text/plain": [
       "-1.0"
      ]
     },
     "execution_count": 2,
     "metadata": {},
     "output_type": "execute_result"
    }
   ],
   "source": [
    "float(-1)"
   ]
  },
  {
   "cell_type": "code",
   "execution_count": 3,
   "id": "87ee30b0",
   "metadata": {},
   "outputs": [
    {
     "data": {
      "text/plain": [
       "8.0"
      ]
     },
     "execution_count": 3,
     "metadata": {},
     "output_type": "execute_result"
    }
   ],
   "source": [
    "float(8)"
   ]
  },
  {
   "cell_type": "markdown",
   "id": "d0e771c5",
   "metadata": {},
   "source": [
    "## Converting Float to Integer\n",
    "\n",
    "To convert a floating-point number to an integer, we can use the int() function. The result will be the integer part of the floating-point number. Let's look at some examples."
   ]
  },
  {
   "cell_type": "code",
   "execution_count": 6,
   "id": "433f08bc",
   "metadata": {},
   "outputs": [
    {
     "data": {
      "text/plain": [
       "7"
      ]
     },
     "execution_count": 6,
     "metadata": {},
     "output_type": "execute_result"
    }
   ],
   "source": [
    "int(7.8)"
   ]
  },
  {
   "cell_type": "code",
   "execution_count": 5,
   "id": "9f7c124b",
   "metadata": {},
   "outputs": [
    {
     "data": {
      "text/plain": [
       "3"
      ]
     },
     "execution_count": 5,
     "metadata": {},
     "output_type": "execute_result"
    }
   ],
   "source": [
    "int(3.14)"
   ]
  },
  {
   "cell_type": "code",
   "execution_count": 7,
   "id": "0c4db655",
   "metadata": {},
   "outputs": [
    {
     "data": {
      "text/plain": [
       "87"
      ]
     },
     "execution_count": 7,
     "metadata": {},
     "output_type": "execute_result"
    }
   ],
   "source": [
    "int(87.12384123)"
   ]
  },
  {
   "cell_type": "code",
   "execution_count": 11,
   "id": "6bde063b",
   "metadata": {},
   "outputs": [
    {
     "data": {
      "text/plain": [
       "4"
      ]
     },
     "execution_count": 11,
     "metadata": {},
     "output_type": "execute_result"
    }
   ],
   "source": [
    "x = 36\n",
    "y = 9\n",
    "int(x/y)"
   ]
  },
  {
   "cell_type": "markdown",
   "id": "5ffb939e",
   "metadata": {},
   "source": [
    "## Converting Numbers to Strings\n",
    "\n",
    "To convert a number to a string, we can use the str() function. All digits or decimal points composing the number will be converted to individual characters."
   ]
  },
  {
   "cell_type": "code",
   "execution_count": 16,
   "id": "57ef4106",
   "metadata": {},
   "outputs": [
    {
     "data": {
      "text/plain": [
       "'2131451214123'"
      ]
     },
     "execution_count": 16,
     "metadata": {},
     "output_type": "execute_result"
    }
   ],
   "source": [
    "a = 2131451214123\n",
    "b = str(a)\n",
    "b"
   ]
  },
  {
   "cell_type": "code",
   "execution_count": 17,
   "id": "6421ef45",
   "metadata": {},
   "outputs": [
    {
     "data": {
      "text/plain": [
       "13"
      ]
     },
     "execution_count": 17,
     "metadata": {},
     "output_type": "execute_result"
    }
   ],
   "source": [
    "len(b)"
   ]
  },
  {
   "cell_type": "code",
   "execution_count": 18,
   "id": "0aca5272",
   "metadata": {},
   "outputs": [
    {
     "data": {
      "text/plain": [
       "'3.14343'"
      ]
     },
     "execution_count": 18,
     "metadata": {},
     "output_type": "execute_result"
    }
   ],
   "source": [
    "t = 3.14343\n",
    "j = str(t)\n",
    "j"
   ]
  },
  {
   "cell_type": "code",
   "execution_count": 19,
   "id": "e5759ae8",
   "metadata": {},
   "outputs": [
    {
     "data": {
      "text/plain": [
       "7"
      ]
     },
     "execution_count": 19,
     "metadata": {},
     "output_type": "execute_result"
    }
   ],
   "source": [
    "len(j)"
   ]
  },
  {
   "cell_type": "markdown",
   "id": "96260969",
   "metadata": {},
   "source": [
    "## Converting Strings to Integers\n",
    "\n",
    "When we want to convert a string to an integer, we can use the int() function. However, we should be a little careful. While doing the conversion, we must make sure that each character of the string is a number. Let's look at examples."
   ]
  },
  {
   "cell_type": "code",
   "execution_count": 23,
   "id": "c0e3f14b",
   "metadata": {},
   "outputs": [
    {
     "data": {
      "text/plain": [
       "121395183"
      ]
     },
     "execution_count": 23,
     "metadata": {},
     "output_type": "execute_result"
    }
   ],
   "source": [
    "a = \"121395183\"\n",
    "b = int(a)\n",
    "b"
   ]
  },
  {
   "cell_type": "code",
   "execution_count": 22,
   "id": "584534a1",
   "metadata": {},
   "outputs": [
    {
     "ename": "ValueError",
     "evalue": "invalid literal for int() with base 10: 'xcz<x213124'",
     "output_type": "error",
     "traceback": [
      "\u001b[0;31m---------------------------------------------------------------------------\u001b[0m",
      "\u001b[0;31mValueError\u001b[0m                                Traceback (most recent call last)",
      "Cell \u001b[0;32mIn[22], line 2\u001b[0m\n\u001b[1;32m      1\u001b[0m a \u001b[38;5;241m=\u001b[39m \u001b[38;5;124m\"\u001b[39m\u001b[38;5;124mxcz<x213124\u001b[39m\u001b[38;5;124m\"\u001b[39m\n\u001b[0;32m----> 2\u001b[0m b \u001b[38;5;241m=\u001b[39m \u001b[38;5;28mint\u001b[39m(a)\n\u001b[1;32m      3\u001b[0m b\n",
      "\u001b[0;31mValueError\u001b[0m: invalid literal for int() with base 10: 'xcz<x213124'"
     ]
    }
   ],
   "source": [
    "a = \"xcz<x213124\"\n",
    "b = int(a)\n",
    "b"
   ]
  },
  {
   "cell_type": "markdown",
   "id": "de30c37d",
   "metadata": {},
   "source": [
    "## Converting Strings to Decimal Numbers\n",
    "\n",
    "When we want to convert a string to a decimal number, we can use the float() function. However, we should be a little careful. While doing the conversion, we must make sure that the string complies with the decimal number format. Let's look at examples."
   ]
  },
  {
   "cell_type": "code",
   "execution_count": 24,
   "id": "af29fcb9",
   "metadata": {},
   "outputs": [
    {
     "data": {
      "text/plain": [
       "3.14159572"
      ]
     },
     "execution_count": 24,
     "metadata": {},
     "output_type": "execute_result"
    }
   ],
   "source": [
    "a = \"3.14159572\"\n",
    "b = float(a)\n",
    "b"
   ]
  },
  {
   "cell_type": "code",
   "execution_count": 25,
   "id": "a629fcd5",
   "metadata": {},
   "outputs": [
    {
     "ename": "ValueError",
     "evalue": "could not convert string to float: '3.14.15.9572'",
     "output_type": "error",
     "traceback": [
      "\u001b[0;31m---------------------------------------------------------------------------\u001b[0m",
      "\u001b[0;31mValueError\u001b[0m                                Traceback (most recent call last)",
      "Cell \u001b[0;32mIn[25], line 2\u001b[0m\n\u001b[1;32m      1\u001b[0m a \u001b[38;5;241m=\u001b[39m \u001b[38;5;124m\"\u001b[39m\u001b[38;5;124m3.14.15.9572\u001b[39m\u001b[38;5;124m\"\u001b[39m\n\u001b[0;32m----> 2\u001b[0m b \u001b[38;5;241m=\u001b[39m \u001b[38;5;28mfloat\u001b[39m(a)\n\u001b[1;32m      3\u001b[0m b\n",
      "\u001b[0;31mValueError\u001b[0m: could not convert string to float: '3.14.15.9572'"
     ]
    }
   ],
   "source": [
    "a = \"3.14.15.9572\"\n",
    "b = float(a)\n",
    "b"
   ]
  },
  {
   "cell_type": "code",
   "execution_count": null,
   "id": "e4f820d1",
   "metadata": {},
   "outputs": [],
   "source": []
  },
  {
   "cell_type": "code",
   "execution_count": null,
   "id": "cf12cf07",
   "metadata": {},
   "outputs": [],
   "source": []
  },
  {
   "cell_type": "code",
   "execution_count": null,
   "id": "b3d1efa4",
   "metadata": {},
   "outputs": [],
   "source": []
  },
  {
   "cell_type": "code",
   "execution_count": null,
   "id": "b6ba78b0",
   "metadata": {},
   "outputs": [],
   "source": []
  },
  {
   "cell_type": "code",
   "execution_count": null,
   "id": "be23462a",
   "metadata": {},
   "outputs": [],
   "source": []
  },
  {
   "cell_type": "code",
   "execution_count": null,
   "id": "6f351c1e",
   "metadata": {},
   "outputs": [],
   "source": []
  },
  {
   "cell_type": "code",
   "execution_count": null,
   "id": "effd842e",
   "metadata": {},
   "outputs": [],
   "source": []
  }
 ],
 "metadata": {
  "kernelspec": {
   "display_name": "Python 3 (ipykernel)",
   "language": "python",
   "name": "python3"
  },
  "language_info": {
   "codemirror_mode": {
    "name": "ipython",
    "version": 3
   },
   "file_extension": ".py",
   "mimetype": "text/x-python",
   "name": "python",
   "nbconvert_exporter": "python",
   "pygments_lexer": "ipython3",
   "version": "3.11.5"
  }
 },
 "nbformat": 4,
 "nbformat_minor": 5
}
